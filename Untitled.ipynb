{
 "cells": [
  {
   "cell_type": "code",
   "execution_count": 1,
   "metadata": {},
   "outputs": [],
   "source": [
    "import tensorflow as tf"
   ]
  },
  {
   "cell_type": "code",
   "execution_count": 2,
   "metadata": {},
   "outputs": [
    {
     "name": "stdout",
     "output_type": "stream",
     "text": [
      "Executing op MatMul in device /job:localhost/replica:0/task:0/device:CPU:0\n",
      "tf.Tensor(\n",
      "[[22. 28.]\n",
      " [49. 64.]], shape=(2, 2), dtype=float32)\n"
     ]
    }
   ],
   "source": [
    "tf.debugging.set_log_device_placement(True)\n",
    "\n",
    "# Create some tensors\n",
    "a = tf.constant([[1.0, 2.0, 3.0], [4.0, 5.0, 6.0]])\n",
    "b = tf.constant([[1.0, 2.0], [3.0, 4.0], [5.0, 6.0]])\n",
    "c = tf.matmul(a, b)\n",
    "\n",
    "print(c)"
   ]
  },
  {
   "cell_type": "code",
   "execution_count": 3,
   "metadata": {},
   "outputs": [
    {
     "name": "stdout",
     "output_type": "stream",
     "text": [
      "TensorFlow version: 2.0.0\n"
     ]
    }
   ],
   "source": [
    "import tensorflow as tf\n",
    "print (\"TensorFlow version: \" + tf.__version__)"
   ]
  },
  {
   "cell_type": "code",
   "execution_count": 4,
   "metadata": {},
   "outputs": [
    {
     "name": "stdout",
     "output_type": "stream",
     "text": [
      "Num GPUs Available:  0\n"
     ]
    }
   ],
   "source": [
    "print(\"Num GPUs Available: \", len(tf.config.experimental.list_physical_devices('GPU')))"
   ]
  },
  {
   "cell_type": "markdown",
   "metadata": {},
   "source": [
    "```python\n",
    "model = Sequential([\n",
    "    Constrained_Conv(5x5x1x3, S=1)\n",
    "    Conv2D(7x7x3x96, S=2)\n",
    "    BatchNorm()\n",
    "    ReLU()\n",
    "    MaxPooling2D(3x3, S=2)\n",
    "    \n",
    "    Conv2D(5x5x96x64, S=1)\n",
    "    BatchNorm()\n",
    "    ReLU()\n",
    "    MaxPooling2D(3x3, S=2)\n",
    "    \n",
    "    Conv2D(5x5x64x64, S=1)\n",
    "    BatchNorm()\n",
    "    ReLU()\n",
    "    MaxPooling2D(3x3, S=2)\n",
    "    \n",
    "    Conv2D(1x1x64x128, S=1)\n",
    "    BatchNorm()\n",
    "    ReLU()\n",
    "    MaxPooling2D(3x3, S=2)\n",
    "    \n",
    "    FC(200)\n",
    "    ReLU()\n",
    "    FC(200)\n",
    "    ReLU()\n",
    "    FC(200)\n",
    "    SoftMax()  # classes number\n",
    "])\n",
    "```"
   ]
  },
  {
   "cell_type": "code",
   "execution_count": 11,
   "metadata": {},
   "outputs": [
    {
     "name": "stdout",
     "output_type": "stream",
     "text": [
      "[*] Prepare data\n"
     ]
    }
   ],
   "source": [
    "print(\"[*] Prepare data\")\n",
    "# For the sake of simplicity, let us use the test set for validation purposes.\n",
    "\n",
    "train_dir = os.path.join(patches_root, \"train\")\n",
    "train_dataset = set_up_data_pipeline(patches_root, train_db_path)\n",
    "test_dir = os.path.join(patches_root, \"test\")\n",
    "test_dataset = set_up_data_pipeline(patches_root, test_db_path)"
   ]
  }
 ],
 "metadata": {
  "kernelspec": {
   "display_name": "Python 3",
   "language": "python",
   "name": "python3"
  },
  "language_info": {
   "codemirror_mode": {
    "name": "ipython",
    "version": 3
   },
   "file_extension": ".py",
   "mimetype": "text/x-python",
   "name": "python",
   "nbconvert_exporter": "python",
   "pygments_lexer": "ipython3",
   "version": "3.7.5"
  }
 },
 "nbformat": 4,
 "nbformat_minor": 4
}
