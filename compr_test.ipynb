{
 "cells": [
  {
   "cell_type": "code",
   "execution_count": 1,
   "metadata": {},
   "outputs": [],
   "source": [
    "import tensorflow as tf"
   ]
  },
  {
   "cell_type": "code",
   "execution_count": 2,
   "metadata": {},
   "outputs": [],
   "source": [
    "gpus = tf.config.experimental.list_physical_devices('GPU')\n",
    "tf.config.experimental.set_memory_growth(gpus[0], True)"
   ]
  },
  {
   "cell_type": "code",
   "execution_count": 3,
   "metadata": {},
   "outputs": [],
   "source": [
    "import numpy as np\n",
    "import os\n",
    "import sys\n",
    "import pandas as pd\n",
    "import split_extract\n",
    "import matplotlib.pyplot as plt\n",
    "from tqdm import tqdm\n",
    "from multiprocessing import Pool\n",
    "from PIL import Image\n",
    "from tensorflow.keras.preprocessing.image import ImageDataGenerator\n",
    "from params import dresden_images_root, images_db_path, patch_span, \\\n",
    "        patch_num, patches_root, patches_db_path, compr_root, compr_img, compr_patches"
   ]
  },
  {
   "cell_type": "code",
   "execution_count": 4,
   "metadata": {},
   "outputs": [],
   "source": [
    "if not os.path.exists(compr_root):\n",
    "    os.makedirs(compr_root)\n",
    "if not os.path.exists(compr_img):\n",
    "    os.makedirs(compr_img)\n",
    "if not os.path.exists(compr_patches):\n",
    "    os.makedirs(compr_patches)\n",
    "\n",
    "patches_db = np.load(patches_db_path, allow_pickle=True).item()\n",
    "images_db = np.load(images_db_path, allow_pickle=True).item()\n",
    "model_img = dict(zip(images_db['path'], images_db['brand_model']))\n",
    "\n",
    "model_list = np.unique(images_db['brand_model'])[0:3]\n",
    "img_list = patches_db['test']\n",
    "label_list = [model_img[img] for img in img_list]\n",
    "img_path = [os.path.join(dresden_images_root, img) for img in img_list]\n",
    "jpg_path = [os.path.join(compr_root, img) for img in img_path]"
   ]
  },
  {
   "cell_type": "code",
   "execution_count": 5,
   "metadata": {},
   "outputs": [],
   "source": [
    "for img, path in zip(img_path, jpg_path):\n",
    "    if not os.path.exists(path):          \n",
    "        im = Image.open(img)\n",
    "        im.save(path, 'JPEG', quality=70, optimize=True)"
   ]
  },
  {
   "cell_type": "code",
   "execution_count": 6,
   "metadata": {},
   "outputs": [
    {
     "name": "stderr",
     "output_type": "stream",
     "text": [
      "195it [00:00, 172586.89it/s]"
     ]
    },
    {
     "name": "stdout",
     "output_type": "stream",
     "text": [
      "Collecting image data...\n"
     ]
    },
    {
     "name": "stderr",
     "output_type": "stream",
     "text": [
      "\n"
     ]
    }
   ],
   "source": [
    "print('Collecting image data...')\n",
    "imgs_list = []\n",
    "\n",
    "for img_brand_model, img_path in \\\n",
    "    tqdm(zip(label_list, jpg_path)):\n",
    "        imgs_list += [{'data_set':'patches',\n",
    "                           'img_path':img_path,\n",
    "                           'img_brand_model':img_brand_model,\n",
    "                           'patch_span':patch_span,\n",
    "                           'patch_num':patch_num,\n",
    "                           'patch_root': compr_root,\n",
    "                           'img_root': './'\n",
    "                           }]\n",
    "# num_processes = 12\n",
    "num_processes = 4\n",
    "pool = Pool(processes=num_processes)"
   ]
  },
  {
   "cell_type": "code",
   "execution_count": null,
   "metadata": {},
   "outputs": [],
   "source": [
    "test_paths = pool.map(split_extract.extract, imgs_list)\n",
    "print('Completed.')"
   ]
  },
  {
   "cell_type": "code",
   "execution_count": 8,
   "metadata": {},
   "outputs": [
    {
     "name": "stdout",
     "output_type": "stream",
     "text": [
      "Found 4700 images belonging to 3 classes.\n",
      "\n",
      "# Evaluate on test data\n",
      "74/74 [==============================] - 13s 182ms/step - loss: 4.4608 - accuracy: 0.6965\n"
     ]
    }
   ],
   "source": [
    "# Define image and batch size\n",
    "img_height = 256\n",
    "img_width = 256\n",
    "batch_size = 64\n",
    "\n",
    "# Load and Compile the model\n",
    "model = tf.keras.models.load_model('./instance/model.h5')\n",
    "\n",
    "sgd = tf.keras.optimizers.SGD(lr=0.001, momentum=0.95, decay=0.0004)\n",
    "\n",
    "model.compile(\n",
    "    optimizer=sgd, \n",
    "    loss='binary_crossentropy', \n",
    "    metrics=['accuracy'])\n",
    "\n",
    "# Create the Generator\n",
    "test_data_gen = ImageDataGenerator(preprocessing_function=None,\n",
    "    rescale=1./255)\n",
    "\n",
    "# Read the positive test samples.\n",
    "test_generator = test_data_gen.flow_from_directory(\n",
    "                  directory = r\"./compr/patches/\",\n",
    "                  target_size=(img_width, img_height), color_mode='grayscale', shuffle=True,\n",
    "                  batch_size=batch_size, class_mode=\"categorical\")\n",
    "\n",
    "print('\\n# Evaluate on test data')\n",
    "results = model.evaluate(test_generator)"
   ]
  },
  {
   "cell_type": "code",
   "execution_count": 9,
   "metadata": {},
   "outputs": [
    {
     "name": "stdout",
     "output_type": "stream",
     "text": [
      "Found 4700 images belonging to 3 classes.\n",
      "                     Canon_Ixus55  Canon_Ixus70  Canon_PowerShotA640\n",
      "Canon_Ixus55                    6          1175                    1\n",
      "Canon_Ixus70                    0          2442                    0\n",
      "Canon_PowerShotA640             0           852                    4\n"
     ]
    },
    {
     "data": {
      "text/plain": [
       "<matplotlib.axes._subplots.AxesSubplot at 0x7f2bd030fb90>"
      ]
     },
     "execution_count": 9,
     "metadata": {},
     "output_type": "execute_result"
    },
    {
     "data": {
      "image/png": "[encoded data removed]",
      "text/plain": [
       "<Figure size 720x360 with 1 Axes>"
      ]
     },
     "metadata": {
      "needs_background": "light"
     },
     "output_type": "display_data"
    }
   ],
   "source": [
    "test_data_gen = ImageDataGenerator(preprocessing_function=None,\n",
    "    rescale=1./255)\n",
    "# Read the positive test samples.\n",
    "test_generator = test_data_gen.flow_from_directory(\n",
    "                  directory = r\"./compr/patches/\",\n",
    "                  target_size=(img_width, img_height), color_mode='grayscale', shuffle=True,\n",
    "                  batch_size=batch_size, class_mode=\"categorical\")\n",
    "\n",
    "# generate a histogram, which for every unseen models, how many imgs are classified.\n",
    "hist = [[0, 0, 0] for i in range(len(model_list))]\n",
    "\n",
    "for i in range(70):\n",
    "    gen = next(test_generator)\n",
    "    pred = model.predict(gen[0])\n",
    "    pred_labels = np.argmax(pred, axis=1)\n",
    "    real_labels = np.argmax(gen[1], axis=1)\n",
    "    for j in range(len(pred_labels)):\n",
    "        hist[real_labels[j]][pred_labels[j]] += 1\n",
    "        \n",
    "df = pd.DataFrame(hist, index=model_list, columns=model_list)\n",
    "print(df)\n",
    "\n",
    "df.plot.bar(stacked=True, figsize=(10, 5), title='Classify Nikon and Sony with trained Canon Model')"
   ]
  }
 ],
 "metadata": {
  "kernelspec": {
   "display_name": "Python 3",
   "language": "python",
   "name": "python3"
  },
  "language_info": {
   "codemirror_mode": {
    "name": "ipython",
    "version": 3
   },
   "file_extension": ".py",
   "mimetype": "text/x-python",
   "name": "python",
   "nbconvert_exporter": "python",
   "pygments_lexer": "ipython3",
   "version": "3.7.6"
  }
 },
 "nbformat": 4,
 "nbformat_minor": 4
}
