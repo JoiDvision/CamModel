{
 "cells": [
  {
   "cell_type": "code",
   "execution_count": 1,
   "metadata": {},
   "outputs": [],
   "source": [
    "import os\n",
    "import urllib\n",
    "import pandas as pd\n",
    "import cv2\n",
    "from tqdm import tqdm\n",
    "import numpy as np\n",
    "from params import dresden_images_root, dresden_csv, images_db_path"
   ]
  },
  {
   "cell_type": "code",
   "execution_count": 2,
   "metadata": {},
   "outputs": [],
   "source": [
    "brand_list = []\n",
    "model_list = []\n",
    "brand_model_list = []\n",
    "instance_list = []\n",
    "shot_list = []\n",
    "path_list = []\n",
    "position_num_list = []\n",
    "position_name_list = []\n",
    "motive_num_list = []\n",
    "motive_name_list = []    "
   ]
  },
  {
   "cell_type": "code",
   "execution_count": 3,
   "metadata": {},
   "outputs": [],
   "source": [
    "# Create output folder if needed\n",
    "if not os.path.exists(dresden_images_root):\n",
    "    os.makedirs(dresden_images_root)\n",
    "\n",
    "data = pd.read_csv(dresden_csv)\n",
    "\n",
    "# Here I only use Agfa and Canon for experiment\n",
    "data = data[(data['brand'] == 'Agfa') | (data['brand'] == 'Canon')]"
   ]
  },
  {
   "cell_type": "code",
   "execution_count": 4,
   "metadata": {},
   "outputs": [],
   "source": [
    "csv_rows = []\n",
    "for i in range((data.shape[0])): \n",
    "    csv_rows.append(list(data.iloc[i, :])) "
   ]
  },
  {
   "cell_type": "code",
   "execution_count": 5,
   "metadata": {},
   "outputs": [],
   "source": [
    "count = 0\n",
    "for csv_row in tqdm(csv_rows):\n",
    "    filename, \\\n",
    "    brand, model, instance, shot, \\\n",
    "    position_num, position_name, motive_num, motive_name, \\\n",
    "    url = csv_row\n",
    "\n",
    "    file_path = os.path.join(dresden_images_root,filename)\n",
    "\n",
    "    try:\n",
    "        if not os.path.exists(file_path):\n",
    "            print('Downloading {:}'.format(filename))\n",
    "            urllib.request.urlretrieve(url, file_path)\n",
    "\n",
    "        # print('Loading {:}'.format(filename))\n",
    "\n",
    "        # Load the image and check its dimensions\n",
    "        img = cv2.imread(file_path)\n",
    "\n",
    "        if img is None or not isinstance(img, np.ndarray):\n",
    "            print('Unable to read image: {:}'.format(filename))\n",
    "            # removes (deletes) the file path\n",
    "            os.unlink(file_path)\n",
    "\n",
    "        # if the size of all images are not zero, then append to the list\n",
    "        if all(img.shape[:2]):\n",
    "            count += 1\n",
    "\n",
    "            brand_model = '_'.join([brand, model])\n",
    "            brand_list.append(brand)\n",
    "            model_list.append(model)\n",
    "            brand_model_list.append(brand_model)\n",
    "            instance_list.append(int(instance))\n",
    "            shot_list.append(int(shot))\n",
    "            path_list.append(filename)\n",
    "            position_num_list.append(int(position_num))\n",
    "            position_name_list.append(position_name)\n",
    "            motive_num_list.append(int(motive_num))\n",
    "            motive_name_list.append(motive_name)\n",
    "\n",
    "        else:\n",
    "            print('Zero-sized image: {:}'.format(filename))\n",
    "            os.unlink(file_path)\n",
    "\n",
    "    except IOError:\n",
    "        print('Unable to decode: {:}'.format(filename))\n",
    "        os.unlink(file_path)\n",
    "\n",
    "    except Exception as e:\n",
    "        print('Error while loading: {:}'.format(filename))\n",
    "        if os.path.exists(file_path):\n",
    "            os.unlink(file_path)\n",
    "\n",
    "print('Number of images: {:}'.format(len(shot_list)))\n",
    "\n",
    "print('Saving db to: {:}'.format(images_db_path))\n",
    "\n",
    "# create a images database as a dictionary\n",
    "images_db = {\n",
    "    'brand': np.asarray(brand_list).flatten(),\n",
    "    'model': np.asarray(model_list).flatten(),\n",
    "    'brand_model': np.asarray(brand_model_list).flatten(),\n",
    "    'instance': np.asarray(instance_list).flatten(),\n",
    "    'shot': np.asarray(shot_list).flatten(),\n",
    "    'path': np.asarray(path_list).flatten(),\n",
    "    'position_num': np.asarray(position_num_list).flatten(),\n",
    "    'position_name': np.asarray(position_name_list).flatten(),\n",
    "    'motive_num': np.asarray(motive_num_list).flatten(),\n",
    "    'motive_name': np.asarray(motive_name_list).flatten(),\n",
    "}\n",
    "np.save(images_db_path, images_db)\n",
    "\n",
    "print('Completed.')"
   ]
  }
 ],
 "metadata": {
  "kernelspec": {
   "display_name": "Python 3",
   "language": "python",
   "name": "python3"
  },
  "language_info": {
   "codemirror_mode": {
    "name": "ipython",
    "version": 3
   },
   "file_extension": ".py",
   "mimetype": "text/x-python",
   "name": "python",
   "nbconvert_exporter": "python",
   "pygments_lexer": "ipython3",
   "version": "3.7.5"
  }
 },
 "nbformat": 4,
 "nbformat_minor": 4
}
