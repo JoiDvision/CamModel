{
 "cells": [
  {
   "cell_type": "code",
   "execution_count": 1,
   "metadata": {},
   "outputs": [],
   "source": [
    "import os\n",
    "import pandas as pd\n",
    "from func import download\n",
    "from params import dresden_images_root, dresden_csv, train_csv_path, unseen_csv_path"
   ]
  },
  {
   "cell_type": "code",
   "execution_count": 2,
   "metadata": {},
   "outputs": [],
   "source": [
    "# Create output folder if needed\n",
    "if not os.path.exists(dresden_images_root):\n",
    "    os.makedirs(dresden_images_root)\n",
    "\n",
    "data = pd.read_csv(dresden_csv)\n",
    "\n",
    "train_model = ['Ixus70', 'D200', 'mju-1050SW']\n",
    "unseen_model = ['Ixus55', 'D70', 'PowerShotA640', 'L74wide', 'DSC-W170']\n",
    "\n",
    "train_data = data[([model in train_model for model in data['model']])]\n",
    "unseen_data = data[([model in unseen_model for model in data['model']])]"
   ]
  },
  {
   "cell_type": "code",
   "execution_count": null,
   "metadata": {},
   "outputs": [],
   "source": [
    "download(train_data, dresden_images_root, train_csv_path)"
   ]
  },
  {
   "cell_type": "code",
   "execution_count": null,
   "metadata": {},
   "outputs": [],
   "source": [
    "download(unseen_data, dresden_images_root, unseen_csv_path)"
   ]
  }
 ],
 "metadata": {
  "kernelspec": {
   "display_name": "Python 3",
   "language": "python",
   "name": "python3"
  },
  "language_info": {
   "codemirror_mode": {
    "name": "ipython",
    "version": 3
   },
   "file_extension": ".py",
   "mimetype": "text/x-python",
   "name": "python",
   "nbconvert_exporter": "python",
   "pygments_lexer": "ipython3",
   "version": "3.7.6"
  }
 },
 "nbformat": 4,
 "nbformat_minor": 4
}
