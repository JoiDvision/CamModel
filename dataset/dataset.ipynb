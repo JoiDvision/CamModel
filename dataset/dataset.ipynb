{
 "cells": [
  {
   "cell_type": "code",
   "execution_count": 1,
   "metadata": {},
   "outputs": [],
   "source": [
    "import os\n",
    "import pandas as pd\n",
    "from func import download\n",
    "from params import dresden_images_root, dresden_csv, train_csv_path, unseen_csv_path,\\\n",
    "    ins_train_csv, ins_test_csv, ins_train_path, ins_test_path"
   ]
  },
  {
   "cell_type": "code",
   "execution_count": 2,
   "metadata": {},
   "outputs": [],
   "source": [
    "# Create output folder if needed\n",
    "for path in [dresden_images_root, ins_train_path, ins_test_path]:\n",
    "    if not os.path.exists(path):\n",
    "        os.makedirs(path)\n",
    "\n",
    "data = pd.read_csv(dresden_csv)\n",
    "\n",
    "# train the model on Canon_Ixus70, Nikon_D200, Olympus_MJU\n",
    "train_model = ['Ixus70', 'D200', 'mju-1050SW']\n",
    "unseen_model = ['Ixus55', 'D70', 'PowerShotA640', 'DC-830i', 'DSC-W170']\n",
    "\n",
    "train_data = data[([model in train_model for model in data['model']])]\n",
    "unseen_data = data[([model in unseen_model for model in data['model']])]"
   ]
  },
  {
   "cell_type": "code",
   "execution_count": 3,
   "metadata": {},
   "outputs": [
    {
     "name": "stderr",
     "output_type": "stream",
     "text": [
      "100%|██████████| 2359/2359 [07:49<00:00,  5.02it/s]\n"
     ]
    },
    {
     "name": "stdout",
     "output_type": "stream",
     "text": [
      "Number of images: 2359\n",
      "Saving db to csv\n"
     ]
    }
   ],
   "source": [
    "download(train_data, dresden_images_root, train_csv_path)"
   ]
  },
  {
   "cell_type": "code",
   "execution_count": 4,
   "metadata": {},
   "outputs": [
    {
     "name": "stderr",
     "output_type": "stream",
     "text": [
      "100%|██████████| 1549/1549 [03:45<00:00,  6.86it/s]"
     ]
    },
    {
     "name": "stdout",
     "output_type": "stream",
     "text": [
      "Number of images: 1549\n",
      "Saving db to csv\n"
     ]
    },
    {
     "name": "stderr",
     "output_type": "stream",
     "text": [
      "\n"
     ]
    }
   ],
   "source": [
    "download(unseen_data, dresden_images_root, unseen_csv_path)"
   ]
  },
  {
   "cell_type": "code",
   "execution_count": 5,
   "metadata": {},
   "outputs": [
    {
     "name": "stdout",
     "output_type": "stream",
     "text": [
      "Saving db to csv\n",
      "Saving db to csv\n"
     ]
    }
   ],
   "source": [
    "# create dataset for instance experiment, separate images for each\n",
    "# camera according to device, save the split information into csvs\n",
    "ins_train = train_data[(train_data['instance']==0)]\n",
    "ins_test = train_data[(train_data['instance']!=0)]\n",
    "\n",
    "for db, csv in zip([ins_train, ins_test], [ins_train_csv, ins_test_csv]):\n",
    "    brand_model_list = []\n",
    "    for brand, model in zip(db['brand'].values, db['model'].values):\n",
    "        brand_model_list.append('_'.join((brand, model)))\n",
    "\n",
    "    df = pd.DataFrame({'brand_model': brand_model_list, 'path': db['filename'].values})\n",
    "    df.to_csv(csv, index=False)\n",
    "    print('Saving db to csv')"
   ]
  }
 ],
 "metadata": {
  "kernelspec": {
   "display_name": "Python 3",
   "language": "python",
   "name": "python3"
  },
  "language_info": {
   "codemirror_mode": {
    "name": "ipython",
    "version": 3
   },
   "file_extension": ".py",
   "mimetype": "text/x-python",
   "name": "python",
   "nbconvert_exporter": "python",
   "pygments_lexer": "ipython3",
   "version": "3.7.6"
  }
 },
 "nbformat": 4,
 "nbformat_minor": 4
}
