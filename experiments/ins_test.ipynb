{
 "cells": [
  {
   "cell_type": "code",
   "execution_count": 1,
   "metadata": {},
   "outputs": [],
   "source": [
    "import tensorflow as tf"
   ]
  },
  {
   "cell_type": "code",
   "execution_count": 2,
   "metadata": {},
   "outputs": [],
   "source": [
    "gpus = tf.config.experimental.list_physical_devices('GPU')\n",
    "tf.config.experimental.set_memory_growth(gpus[0], True)"
   ]
  },
  {
   "cell_type": "code",
   "execution_count": 3,
   "metadata": {},
   "outputs": [],
   "source": [
    "import os\n",
    "import numpy as np\n",
    "import func\n",
    "import pandas as pd\n",
    "import matplotlib.pyplot as plt\n",
    "import tikzplotlib\n",
    "from params import train_csv_path\n",
    "from tensorflow.keras.preprocessing.image import ImageDataGenerator"
   ]
  },
  {
   "cell_type": "code",
   "execution_count": 4,
   "metadata": {},
   "outputs": [
    {
     "name": "stdout",
     "output_type": "stream",
     "text": [
      "Found 39900 images belonging to 3 classes.\n"
     ]
    }
   ],
   "source": [
    "# Define image and batch size\n",
    "img_height = 256 \n",
    "img_width = 256\n",
    "batch_size = 64\n",
    "\n",
    "# Load and Compile the model\n",
    "model = tf.keras.models.load_model('./instance/model.h5')\n",
    "\n",
    "sgd = tf.keras.optimizers.SGD(lr=0.001, momentum=0.95, decay=0.0004)\n",
    "\n",
    "model.compile(\n",
    "    optimizer=sgd, \n",
    "    loss='binary_crossentropy', \n",
    "    metrics=['accuracy'])\n",
    "\n",
    "# Create the Generator\n",
    "test_data_gen = ImageDataGenerator(preprocessing_function=None,\n",
    "    rescale=1./255)\n",
    "\n",
    "# Read the positive test samples.\n",
    "test_generator = test_data_gen.flow_from_directory(\n",
    "                  directory = r\"./instance/test/\",\n",
    "                  target_size=(img_width, img_height), color_mode='grayscale', shuffle=True,\n",
    "                  batch_size=batch_size, class_mode=\"categorical\")\n",
    "\n",
    "# print('\\n# Evaluate on test data')\n",
    "# results = model.evaluate(test_generator)\n",
    "# print('test loss, test acc:', results)"
   ]
  },
  {
   "cell_type": "code",
   "execution_count": 5,
   "metadata": {},
   "outputs": [
    {
     "name": "stdout",
     "output_type": "stream",
     "text": [
      "\n",
      "It tooks 131 seconds\n",
      "\n",
      "columns are predictions, index are ground truth\n",
      "\n"
     ]
    },
    {
     "data": {
      "text/html": [
       "<div>\n",
       "<style scoped>\n",
       "    .dataframe tbody tr th:only-of-type {\n",
       "        vertical-align: middle;\n",
       "    }\n",
       "\n",
       "    .dataframe tbody tr th {\n",
       "        vertical-align: top;\n",
       "    }\n",
       "\n",
       "    .dataframe thead th {\n",
       "        text-align: right;\n",
       "    }\n",
       "</style>\n",
       "<table border=\"1\" class=\"dataframe\">\n",
       "  <thead>\n",
       "    <tr style=\"text-align: right;\">\n",
       "      <th></th>\n",
       "      <th>Canon Ixus70</th>\n",
       "      <th>Nikon D200</th>\n",
       "      <th>Olympus mju-1050SW</th>\n",
       "    </tr>\n",
       "  </thead>\n",
       "  <tbody>\n",
       "    <tr>\n",
       "      <th>Canon Ixus70</th>\n",
       "      <td>1499</td>\n",
       "      <td>14</td>\n",
       "      <td>5</td>\n",
       "    </tr>\n",
       "    <tr>\n",
       "      <th>Nikon D200</th>\n",
       "      <td>5</td>\n",
       "      <td>1558</td>\n",
       "      <td>4</td>\n",
       "    </tr>\n",
       "    <tr>\n",
       "      <th>Olympus mju-1050SW</th>\n",
       "      <td>1</td>\n",
       "      <td>3</td>\n",
       "      <td>3311</td>\n",
       "    </tr>\n",
       "  </tbody>\n",
       "</table>\n",
       "</div>"
      ],
      "text/plain": [
       "                    Canon Ixus70  Nikon D200  Olympus mju-1050SW\n",
       "Canon Ixus70                1499          14                   5\n",
       "Nikon D200                     5        1558                   4\n",
       "Olympus mju-1050SW             1           3                3311"
      ]
     },
     "metadata": {},
     "output_type": "display_data"
    },
    {
     "name": "stdout",
     "output_type": "stream",
     "text": [
      "The mean of the confidence is: \n",
      "\n"
     ]
    },
    {
     "data": {
      "text/html": [
       "<div>\n",
       "<style scoped>\n",
       "    .dataframe tbody tr th:only-of-type {\n",
       "        vertical-align: middle;\n",
       "    }\n",
       "\n",
       "    .dataframe tbody tr th {\n",
       "        vertical-align: top;\n",
       "    }\n",
       "\n",
       "    .dataframe thead th {\n",
       "        text-align: right;\n",
       "    }\n",
       "</style>\n",
       "<table border=\"1\" class=\"dataframe\">\n",
       "  <thead>\n",
       "    <tr style=\"text-align: right;\">\n",
       "      <th></th>\n",
       "      <th>Canon Ixus70</th>\n",
       "      <th>Nikon D200</th>\n",
       "      <th>Olympus mju-1050SW</th>\n",
       "    </tr>\n",
       "  </thead>\n",
       "  <tbody>\n",
       "    <tr>\n",
       "      <th>Canon Ixus70</th>\n",
       "      <td>0.995852</td>\n",
       "      <td>0.830226</td>\n",
       "      <td>0.712932</td>\n",
       "    </tr>\n",
       "    <tr>\n",
       "      <th>Nikon D200</th>\n",
       "      <td>0.803355</td>\n",
       "      <td>0.991193</td>\n",
       "      <td>0.872416</td>\n",
       "    </tr>\n",
       "    <tr>\n",
       "      <th>Olympus mju-1050SW</th>\n",
       "      <td>0.631426</td>\n",
       "      <td>0.585218</td>\n",
       "      <td>0.997383</td>\n",
       "    </tr>\n",
       "  </tbody>\n",
       "</table>\n",
       "</div>"
      ],
      "text/plain": [
       "                    Canon Ixus70  Nikon D200  Olympus mju-1050SW\n",
       "Canon Ixus70            0.995852    0.830226            0.712932\n",
       "Nikon D200              0.803355    0.991193            0.872416\n",
       "Olympus mju-1050SW      0.631426    0.585218            0.997383"
      ]
     },
     "metadata": {},
     "output_type": "display_data"
    },
    {
     "name": "stdout",
     "output_type": "stream",
     "text": [
      "The standard deviation of the confidence is: \n",
      "\n"
     ]
    },
    {
     "data": {
      "text/html": [
       "<div>\n",
       "<style scoped>\n",
       "    .dataframe tbody tr th:only-of-type {\n",
       "        vertical-align: middle;\n",
       "    }\n",
       "\n",
       "    .dataframe tbody tr th {\n",
       "        vertical-align: top;\n",
       "    }\n",
       "\n",
       "    .dataframe thead th {\n",
       "        text-align: right;\n",
       "    }\n",
       "</style>\n",
       "<table border=\"1\" class=\"dataframe\">\n",
       "  <thead>\n",
       "    <tr style=\"text-align: right;\">\n",
       "      <th></th>\n",
       "      <th>Canon Ixus70</th>\n",
       "      <th>Nikon D200</th>\n",
       "      <th>Olympus mju-1050SW</th>\n",
       "    </tr>\n",
       "  </thead>\n",
       "  <tbody>\n",
       "    <tr>\n",
       "      <th>Canon Ixus70</th>\n",
       "      <td>0.001014</td>\n",
       "      <td>0.027106</td>\n",
       "      <td>0.047953</td>\n",
       "    </tr>\n",
       "    <tr>\n",
       "      <th>Nikon D200</th>\n",
       "      <td>0.030664</td>\n",
       "      <td>0.001755</td>\n",
       "      <td>0.011113</td>\n",
       "    </tr>\n",
       "    <tr>\n",
       "      <th>Olympus mju-1050SW</th>\n",
       "      <td>0.000000</td>\n",
       "      <td>0.003872</td>\n",
       "      <td>0.000464</td>\n",
       "    </tr>\n",
       "  </tbody>\n",
       "</table>\n",
       "</div>"
      ],
      "text/plain": [
       "                    Canon Ixus70  Nikon D200  Olympus mju-1050SW\n",
       "Canon Ixus70            0.001014    0.027106            0.047953\n",
       "Nikon D200              0.030664    0.001755            0.011113\n",
       "Olympus mju-1050SW      0.000000    0.003872            0.000464"
      ]
     },
     "metadata": {},
     "output_type": "display_data"
    },
    {
     "data": {
      "image/png": "[encoded data removed]",
      "text/plain": [
       "<Figure size 720x360 with 1 Axes>"
      ]
     },
     "metadata": {
      "needs_background": "light"
     },
     "output_type": "display_data"
    },
    {
     "data": {
      "image/png": "[encoded data removed]",
      "text/plain": [
       "<Figure size 720x360 with 1 Axes>"
      ]
     },
     "metadata": {
      "needs_background": "light"
     },
     "output_type": "display_data"
    }
   ],
   "source": [
    "train_db = pd.read_csv(train_csv_path)\n",
    "model_list = np.unique(train_db['brand_model']) \n",
    "model_list = [m.replace(\"_\", \" \") for m in model_list]\n",
    "# generate a histogram, which for every unseen models, how many imgs are classified.\n",
    "hist, conf, pred_labels, real_labels = func.evaluate(model_list, test_generator, model, index=model_list, \n",
    "                                                     columns=model_list, num_batch=100, tex=True)\n",
    "\n",
    "# for all the images' real label is a certain camera, for example Canon_Ixus70, \n",
    "# how does these images are classified ? The magnitude of the histogram indicate how\n",
    "# sure is the model classified the image as one camera(show by color)\n",
    "tex = True\n",
    "df_mean, df_error = func.mean_error(conf, pred_labels, real_labels,\n",
    "                                    real_model=model_list, pred_model=model_list)\n",
    "if tex:\n",
    "    ax = df_mean.plot.bar(yerr=df_error, capsize=5, figsize=(10, 5))\n",
    "    for p in ax.patches:\n",
    "        ax.annotate(f\"{p.get_height():.2f}\", (p.get_x() * 1.008, p.get_height() * 1.008))\n",
    "    tikzplotlib.save(\"test_conf.tex\")\n",
    "    plt.tight_layout()\n",
    "    \n",
    "else:\n",
    "    fig, axes = plt.subplots(nrows=2, ncols=2, figsize=(20, 10))\n",
    "    df_mean.plot.bar(yerr=df_error, ax=axes[0,0], capsize=4)\n",
    "    graph = {0:axes[0,1], 1:axes[1,0], 2:axes[1, 1]}\n",
    "    func.plot_conf(conf, pred_labels, real_labels, graph, real_model=model_list, pred_model=model_list)\n",
    "    \n",
    "plt.tight_layout()"
   ]
  },
  {
   "cell_type": "code",
   "execution_count": 9,
   "metadata": {},
   "outputs": [
    {
     "name": "stdout",
     "output_type": "stream",
     "text": [
      "Found 3800 images belonging to 3 classes.\n",
      "\n",
      "It tooks 8 seconds\n",
      "\n",
      "columns are predictions, index are ground truth\n",
      "\n"
     ]
    },
    {
     "data": {
      "text/html": [
       "<div>\n",
       "<style scoped>\n",
       "    .dataframe tbody tr th:only-of-type {\n",
       "        vertical-align: middle;\n",
       "    }\n",
       "\n",
       "    .dataframe tbody tr th {\n",
       "        vertical-align: top;\n",
       "    }\n",
       "\n",
       "    .dataframe thead th {\n",
       "        text-align: right;\n",
       "    }\n",
       "</style>\n",
       "<table border=\"1\" class=\"dataframe\">\n",
       "  <thead>\n",
       "    <tr style=\"text-align: right;\">\n",
       "      <th></th>\n",
       "      <th>Canon Ixus70</th>\n",
       "      <th>Nikon D200</th>\n",
       "      <th>Olympus mju-1050SW</th>\n",
       "    </tr>\n",
       "  </thead>\n",
       "  <tbody>\n",
       "    <tr>\n",
       "      <th>Canon Ixus70</th>\n",
       "      <td>798</td>\n",
       "      <td>1</td>\n",
       "      <td>1</td>\n",
       "    </tr>\n",
       "    <tr>\n",
       "      <th>Nikon D200</th>\n",
       "      <td>4</td>\n",
       "      <td>1399</td>\n",
       "      <td>3</td>\n",
       "    </tr>\n",
       "    <tr>\n",
       "      <th>Olympus mju-1050SW</th>\n",
       "      <td>0</td>\n",
       "      <td>0</td>\n",
       "      <td>994</td>\n",
       "    </tr>\n",
       "  </tbody>\n",
       "</table>\n",
       "</div>"
      ],
      "text/plain": [
       "                    Canon Ixus70  Nikon D200  Olympus mju-1050SW\n",
       "Canon Ixus70                 798           1                   1\n",
       "Nikon D200                     4        1399                   3\n",
       "Olympus mju-1050SW             0           0                 994"
      ]
     },
     "metadata": {},
     "output_type": "display_data"
    },
    {
     "data": {
      "image/png": "[encoded data removed]",
      "text/plain": [
       "<Figure size 720x360 with 1 Axes>"
      ]
     },
     "metadata": {
      "needs_background": "light"
     },
     "output_type": "display_data"
    }
   ],
   "source": [
    "# Read the positive test samples.\n",
    "test_generator = test_data_gen.flow_from_directory(\n",
    "                  directory = r\"./instance/train/test/\",\n",
    "                  target_size=(img_width, img_height), color_mode='grayscale', shuffle=True,\n",
    "                  batch_size=batch_size, class_mode=\"categorical\")\n",
    "\n",
    "hist, conf, pred_labels, real_labels = func.evaluate(model_list, test_generator, model, index=model_list, \n",
    "                                                     columns=model_list, num_batch=50, tex=True)"
   ]
  },
  {
   "cell_type": "code",
   "execution_count": 10,
   "metadata": {},
   "outputs": [
    {
     "name": "stdout",
     "output_type": "stream",
     "text": [
      "The mean of the confidence is: \n",
      "\n"
     ]
    },
    {
     "data": {
      "text/html": [
       "<div>\n",
       "<style scoped>\n",
       "    .dataframe tbody tr th:only-of-type {\n",
       "        vertical-align: middle;\n",
       "    }\n",
       "\n",
       "    .dataframe tbody tr th {\n",
       "        vertical-align: top;\n",
       "    }\n",
       "\n",
       "    .dataframe thead th {\n",
       "        text-align: right;\n",
       "    }\n",
       "</style>\n",
       "<table border=\"1\" class=\"dataframe\">\n",
       "  <thead>\n",
       "    <tr style=\"text-align: right;\">\n",
       "      <th></th>\n",
       "      <th>Canon Ixus70</th>\n",
       "      <th>Nikon D200</th>\n",
       "      <th>Olympus mju-1050SW</th>\n",
       "    </tr>\n",
       "  </thead>\n",
       "  <tbody>\n",
       "    <tr>\n",
       "      <th>Canon Ixus70</th>\n",
       "      <td>0.996708</td>\n",
       "      <td>0.717297</td>\n",
       "      <td>0.616902</td>\n",
       "    </tr>\n",
       "    <tr>\n",
       "      <th>Nikon D200</th>\n",
       "      <td>0.822762</td>\n",
       "      <td>0.997336</td>\n",
       "      <td>0.825356</td>\n",
       "    </tr>\n",
       "    <tr>\n",
       "      <th>Olympus mju-1050SW</th>\n",
       "      <td>0.000000</td>\n",
       "      <td>0.000000</td>\n",
       "      <td>0.997247</td>\n",
       "    </tr>\n",
       "  </tbody>\n",
       "</table>\n",
       "</div>"
      ],
      "text/plain": [
       "                    Canon Ixus70  Nikon D200  Olympus mju-1050SW\n",
       "Canon Ixus70            0.996708    0.717297            0.616902\n",
       "Nikon D200              0.822762    0.997336            0.825356\n",
       "Olympus mju-1050SW      0.000000    0.000000            0.997247"
      ]
     },
     "metadata": {},
     "output_type": "display_data"
    },
    {
     "name": "stdout",
     "output_type": "stream",
     "text": [
      "The standard deviation of the confidence is: \n",
      "\n"
     ]
    },
    {
     "data": {
      "text/html": [
       "<div>\n",
       "<style scoped>\n",
       "    .dataframe tbody tr th:only-of-type {\n",
       "        vertical-align: middle;\n",
       "    }\n",
       "\n",
       "    .dataframe tbody tr th {\n",
       "        vertical-align: top;\n",
       "    }\n",
       "\n",
       "    .dataframe thead th {\n",
       "        text-align: right;\n",
       "    }\n",
       "</style>\n",
       "<table border=\"1\" class=\"dataframe\">\n",
       "  <thead>\n",
       "    <tr style=\"text-align: right;\">\n",
       "      <th></th>\n",
       "      <th>Canon Ixus70</th>\n",
       "      <th>Nikon D200</th>\n",
       "      <th>Olympus mju-1050SW</th>\n",
       "    </tr>\n",
       "  </thead>\n",
       "  <tbody>\n",
       "    <tr>\n",
       "      <th>Canon Ixus70</th>\n",
       "      <td>0.000930</td>\n",
       "      <td>0.000000</td>\n",
       "      <td>0.000000</td>\n",
       "    </tr>\n",
       "    <tr>\n",
       "      <th>Nikon D200</th>\n",
       "      <td>0.022916</td>\n",
       "      <td>0.000388</td>\n",
       "      <td>0.017262</td>\n",
       "    </tr>\n",
       "    <tr>\n",
       "      <th>Olympus mju-1050SW</th>\n",
       "      <td>0.000000</td>\n",
       "      <td>0.000000</td>\n",
       "      <td>0.000681</td>\n",
       "    </tr>\n",
       "  </tbody>\n",
       "</table>\n",
       "</div>"
      ],
      "text/plain": [
       "                    Canon Ixus70  Nikon D200  Olympus mju-1050SW\n",
       "Canon Ixus70            0.000930    0.000000            0.000000\n",
       "Nikon D200              0.022916    0.000388            0.017262\n",
       "Olympus mju-1050SW      0.000000    0.000000            0.000681"
      ]
     },
     "metadata": {},
     "output_type": "display_data"
    },
    {
     "data": {
      "image/png": "[encoded data removed]",
      "text/plain": [
       "<Figure size 720x360 with 1 Axes>"
      ]
     },
     "metadata": {
      "needs_background": "light"
     },
     "output_type": "display_data"
    }
   ],
   "source": [
    "df_mean, df_error = func.mean_error(conf, pred_labels, real_labels,\n",
    "                                    real_model=model_list, pred_model=model_list)\n",
    "\n",
    "ax = df_mean.plot.bar(yerr=df_error, capsize=5, figsize=(10, 5))\n",
    "for p in ax.patches:\n",
    "    ax.annotate(f\"{p.get_height():.2f}\", (p.get_x() * 1.008, p.get_height() * 1.008))\n",
    "tikzplotlib.save(\"test_conf.tex\")\n",
    "plt.tight_layout()"
   ]
  }
 ],
 "metadata": {
  "kernelspec": {
   "display_name": "Python 3",
   "language": "python",
   "name": "python3"
  },
  "language_info": {
   "codemirror_mode": {
    "name": "ipython",
    "version": 3
   },
   "file_extension": ".py",
   "mimetype": "text/x-python",
   "name": "python",
   "nbconvert_exporter": "python",
   "pygments_lexer": "ipython3",
   "version": "3.7.6"
  }
 },
 "nbformat": 4,
 "nbformat_minor": 4
}
