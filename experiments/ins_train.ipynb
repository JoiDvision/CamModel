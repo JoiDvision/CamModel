{
 "cells": [
  {
   "cell_type": "code",
   "execution_count": 1,
   "metadata": {},
   "outputs": [],
   "source": [
    "import tensorflow as tf"
   ]
  },
  {
   "cell_type": "code",
   "execution_count": 2,
   "metadata": {},
   "outputs": [],
   "source": [
    "gpus = tf.config.experimental.list_physical_devices('GPU')\n",
    "tf.config.experimental.set_memory_growth(gpus[0], True)"
   ]
  },
  {
   "cell_type": "code",
   "execution_count": 3,
   "metadata": {},
   "outputs": [],
   "source": [
    "import os\n",
    "import pandas as pd\n",
    "import datetime\n",
    "import warnings\n",
    "import network\n",
    "import numpy as np\n",
    "import func\n",
    "import fnmatch\n",
    "from params import dresden_csv, ins_train_csv, ins_test_csv, ins_train, ins_test, \\\n",
    "                ins_patches_db, ins_weights\n",
    "from tensorflow.keras.preprocessing.image import ImageDataGenerator\n",
    "from tensorflow.keras.callbacks import ModelCheckpoint, EarlyStopping, Callback"
   ]
  },
  {
   "cell_type": "code",
   "execution_count": 7,
   "metadata": {},
   "outputs": [
    {
     "name": "stdout",
     "output_type": "stream",
     "text": [
      "Found 12227 images belonging to 3 classes.\n",
      "Found 3050 images belonging to 3 classes.\n"
     ]
    }
   ],
   "source": [
    "img_height = 256\n",
    "img_width = 256\n",
    "batch_size = 64\n",
    "\n",
    "train_generator = ImageDataGenerator(preprocessing_function=None,\n",
    "    rescale=1./255, horizontal_flip=True, vertical_flip=True)\n",
    "\n",
    "validation_generator = ImageDataGenerator(preprocessing_function=None,\n",
    "    rescale=1./255)\n",
    "\n",
    "train_data_gen = train_generator.flow_from_directory(\n",
    "    directory=r\"./instance/train/train/\",\n",
    "    target_size=(img_width, img_height), color_mode='grayscale',\n",
    "    batch_size=batch_size, class_mode=\"categorical\", shuffle=True)\n",
    "\n",
    "validation_data_gen = validation_generator.flow_from_directory(\n",
    "    directory=r\"./instance/train/val/\",\n",
    "    target_size=(img_width, img_height), color_mode='grayscale',\n",
    "    batch_size=batch_size, class_mode=\"categorical\", shuffle=True)"
   ]
  },
  {
   "cell_type": "code",
   "execution_count": null,
   "metadata": {},
   "outputs": [],
   "source": [
    "# Load the training and validation datasets\n",
    "print(\"[*] Define model\")\n",
    "model = network.build()\n",
    "\n",
    "sgd = tf.optimizers.SGD(lr=0.001, momentum=0.9, decay=0.0005)\n",
    "model.compile(\n",
    "    optimizer=sgd, \n",
    "    loss='categorical_crossentropy', \n",
    "    metrics=['accuracy'])\n",
    "\n",
    "#           ------------ Train the Model ------------\n",
    "if not os.path.exists('./instance/saved_model'):\n",
    "    os.makedirs('./instance/saved_model')\n",
    "    \n",
    "log_dir = \"logs/fit/\" + datetime.datetime.now().strftime(\"%Y%m%d-%H%M%S\")\n",
    "tensorboard_callback = tf.keras.callbacks.TensorBoard(log_dir=log_dir, histogram_freq=1)\n",
    "\n",
    "ConstrainLayer = network.ConstrainLayer(model)\n",
    "callbacks = [ModelCheckpoint('./instance/saved_model/weights.{epoch:02d}.h5',\n",
    "    monitor='acc',verbose=1, save_best_only=False,\n",
    "    save_freq=1), ConstrainLayer, tensorboard_callback]\n",
    "\n",
    "df = pd.read_csv(ins_weights)\n",
    "class_weight = df.to_dict('records')[0]\n",
    "class_weight = {int(k):v for k, v in class_weight.items()}\n",
    "\n",
    "history = model.fit_generator(generator=train_data_gen, epochs=45, workers=10,\n",
    "     callbacks=callbacks, validation_data=validation_data_gen, class_weight=class_weight)\n",
    "\n",
    "model.save('./instance/model.h5')"
   ]
  }
 ],
 "metadata": {
  "kernelspec": {
   "display_name": "Python 3",
   "language": "python",
   "name": "python3"
  },
  "language_info": {
   "codemirror_mode": {
    "name": "ipython",
    "version": 3
   },
   "file_extension": ".py",
   "mimetype": "text/x-python",
   "name": "python",
   "nbconvert_exporter": "python",
   "pygments_lexer": "ipython3",
   "version": "3.7.6"
  }
 },
 "nbformat": 4,
 "nbformat_minor": 4
}
