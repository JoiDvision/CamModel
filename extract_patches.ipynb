{
 "cells": [
  {
   "cell_type": "code",
   "execution_count": 1,
   "metadata": {},
   "outputs": [],
   "source": [
    "import os\n",
    "import numpy as np\n",
    "import pandas as pd\n",
    "import warnings\n",
    "import func\n",
    "from multiprocessing import Pool\n",
    "from tqdm import tqdm\n",
    "from params import dresden_images_root, train_csv_path, patch_span, \\\n",
    "        patch_num, patches_root, patches_db_path, weights_path"
   ]
  },
  {
   "cell_type": "code",
   "execution_count": 2,
   "metadata": {},
   "outputs": [],
   "source": [
    "warnings.filterwarnings(\"ignore\")\n",
    "\n",
    "if not os.path.exists(patches_root):\n",
    "    os.makedirs(patches_root)"
   ]
  },
  {
   "cell_type": "code",
   "execution_count": 3,
   "metadata": {},
   "outputs": [
    {
     "name": "stdout",
     "output_type": "stream",
     "text": [
      "Canon_Ixus70 in training set: 352.\n",
      "Canon_Ixus70 in validation set: 103.\n",
      "Canon_Ixus70 in test set: 112.\n",
      "\n",
      "Nikon_D200 in training set: 490.\n",
      "Nikon_D200 in validation set: 113.\n",
      "Nikon_D200 in test set: 149.\n",
      "\n",
      "Olympus_mju-1050SW in training set: 669.\n",
      "Olympus_mju-1050SW in validation set: 161.\n",
      "Olympus_mju-1050SW in test set: 210.\n",
      "\n"
     ]
    }
   ],
   "source": [
    "images_db = pd.read_csv(train_csv_path)\n",
    "\n",
    "model_list = np.unique(images_db['brand_model'])\n",
    "img_list = images_db['path']\n",
    "\n",
    "if not os.path.exists(patches_db_path):\n",
    "    train_list, val_list, test_list = func.split(img_list, model_list, patches_db_path)\n",
    "else:\n",
    "    patches_db = np.load(patches_db_path, allow_pickle=True).item()\n",
    "    train_list = patches_db['train']\n",
    "    val_list = patches_db['val']\n",
    "    test_list = patches_db['test']\n",
    "    info, weights = func.split_info(train_list, val_list, test_list, \n",
    "                                       model_list, total=len(img_list))\n",
    "\n",
    "# store class weight to csv\n",
    "df = pd.DataFrame([weights], columns=range(len(model_list)))\n",
    "df.to_csv(weights_path, index=False)"
   ]
  },
  {
   "cell_type": "code",
   "execution_count": 4,
   "metadata": {},
   "outputs": [
    {
     "name": "stderr",
     "output_type": "stream",
     "text": [
      "100%|██████████| 352/352 [00:00<00:00, 346003.05it/s]\n",
      "100%|██████████| 103/103 [00:00<00:00, 43158.17it/s]\n",
      "100%|██████████| 112/112 [00:00<00:00, 132626.21it/s]\n",
      "100%|██████████| 490/490 [00:00<00:00, 175254.45it/s]\n",
      "100%|██████████| 113/113 [00:00<00:00, 138746.00it/s]\n",
      "100%|██████████| 149/149 [00:00<00:00, 272785.38it/s]\n",
      "100%|██████████| 669/669 [00:00<00:00, 525367.79it/s]\n",
      "100%|██████████| 161/161 [00:00<00:00, 256079.99it/s]\n",
      "100%|██████████| 210/210 [00:00<00:00, 329889.08it/s]\n"
     ]
    }
   ],
   "source": [
    "for i in range(len(model_list)):\n",
    "    func.patch(model_list[i], info[i][0], 'train')\n",
    "    func.patch(model_list[i], info[i][1], 'val')\n",
    "    func.patch(model_list[i], info[i][2], 'test')"
   ]
  }
 ],
 "metadata": {
  "kernelspec": {
   "display_name": "Python 3",
   "language": "python",
   "name": "python3"
  },
  "language_info": {
   "codemirror_mode": {
    "name": "ipython",
    "version": 3
   },
   "file_extension": ".py",
   "mimetype": "text/x-python",
   "name": "python",
   "nbconvert_exporter": "python",
   "pygments_lexer": "ipython3",
   "version": "3.7.6"
  }
 },
 "nbformat": 4,
 "nbformat_minor": 4
}
