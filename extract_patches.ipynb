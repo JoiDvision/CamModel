{
 "cells": [
  {
   "cell_type": "code",
   "execution_count": 1,
   "metadata": {},
   "outputs": [],
   "source": [
    "import os\n",
    "import numpy as np\n",
    "import pandas as pd\n",
    "import warnings\n",
    "import func\n",
    "import fnmatch\n",
    "from params import dresden_images_root, train_csv_path, patches_root, \\\n",
    "    patches_db_path, weights_path, ins_patches_db, ins_weights, \\\n",
    "    ins_train_csv, ins_test_csv, ins_train_path, ins_test_path"
   ]
  },
  {
   "cell_type": "code",
   "execution_count": 2,
   "metadata": {},
   "outputs": [],
   "source": [
    "warnings.filterwarnings(\"ignore\")\n",
    "\n",
    "if not os.path.exists(patches_root):\n",
    "    os.makedirs(patches_root)"
   ]
  },
  {
   "cell_type": "code",
   "execution_count": 3,
   "metadata": {},
   "outputs": [
    {
     "name": "stdout",
     "output_type": "stream",
     "text": [
      "Canon_Ixus70 in training set: 352.\n",
      "Canon_Ixus70 in validation set: 103.\n",
      "Canon_Ixus70 in test set: 112.\n",
      "\n",
      "Nikon_D200 in training set: 490.\n",
      "Nikon_D200 in validation set: 113.\n",
      "Nikon_D200 in test set: 149.\n",
      "\n",
      "Olympus_mju-1050SW in training set: 669.\n",
      "Olympus_mju-1050SW in validation set: 161.\n",
      "Olympus_mju-1050SW in test set: 210.\n",
      "\n"
     ]
    }
   ],
   "source": [
    "# split images dataset for training\n",
    "images_db = pd.read_csv(train_csv_path)\n",
    "\n",
    "model_list = np.unique(images_db['brand_model'])\n",
    "img_list = images_db['path']\n",
    "\n",
    "if not os.path.exists(patches_db_path):\n",
    "    train_list, val_list, test_list = func.split(img_list, model_list, patches_db_path)\n",
    "else:\n",
    "    patches_db = np.load(patches_db_path, allow_pickle=True).item()\n",
    "    train_list = patches_db['train']\n",
    "    val_list = patches_db['val']\n",
    "    test_list = patches_db['test']\n",
    "    info, weights = func.split_info(train_list, val_list, test_list, \n",
    "                                       model_list, total=len(img_list))\n",
    "\n",
    "# store class weight to csv\n",
    "df = pd.DataFrame([weights], columns=range(len(model_list)))\n",
    "df.to_csv(weights_path, index=False)"
   ]
  },
  {
   "cell_type": "code",
   "execution_count": 4,
   "metadata": {},
   "outputs": [
    {
     "name": "stderr",
     "output_type": "stream",
     "text": [
      "100%|██████████| 352/352 [00:00<00:00, 420865.17it/s]\n",
      "100%|██████████| 103/103 [00:00<00:00, 119903.78it/s]\n",
      "100%|██████████| 112/112 [00:00<00:00, 317836.30it/s]\n",
      "100%|██████████| 490/490 [00:00<00:00, 393718.19it/s]\n",
      "100%|██████████| 113/113 [00:00<00:00, 48826.24it/s]\n",
      "100%|██████████| 149/149 [00:00<00:00, 153853.10it/s]\n",
      "100%|██████████| 669/669 [00:00<00:00, 438230.42it/s]\n",
      "100%|██████████| 161/161 [00:00<00:00, 175352.62it/s]\n",
      "100%|██████████| 210/210 [00:00<00:00, 206761.46it/s]\n"
     ]
    }
   ],
   "source": [
    "# split images into patches\n",
    "for i in range(len(model_list)):\n",
    "    func.patch(model_list[i], info[i][0], 'train')\n",
    "    func.patch(model_list[i], info[i][1], 'val')\n",
    "    func.patch(model_list[i], info[i][2], 'test')"
   ]
  },
  {
   "cell_type": "code",
   "execution_count": 5,
   "metadata": {},
   "outputs": [
    {
     "name": "stdout",
     "output_type": "stream",
     "text": [
      "Canon_Ixus70 in training set: 112.\n",
      "Canon_Ixus70 in validation set: 36.\n",
      "Canon_Ixus70 in test set: 39.\n",
      "\n",
      "Nikon_D200 in training set: 239.\n",
      "Nikon_D200 in validation set: 59.\n",
      "Nikon_D200 in test set: 74.\n",
      "\n",
      "Olympus_mju-1050SW in training set: 138.\n",
      "Olympus_mju-1050SW in validation set: 27.\n",
      "Olympus_mju-1050SW in test set: 39.\n",
      "\n"
     ]
    }
   ],
   "source": [
    "# split dataset for instance experiment\n",
    "ins_db = pd.read_csv(ins_train_csv)\n",
    "img_list = ins_db['path']\n",
    "\n",
    "if not os.path.exists(ins_patches_db):\n",
    "    train_list, val_list, test_list, info, weights = func.split(img_list, model_list, ins_patches_db)\n",
    "else:\n",
    "    patches_db = np.load(ins_patches_db, allow_pickle=True).item()\n",
    "    train_list = patches_db['train']\n",
    "    val_list = patches_db['val']\n",
    "    test_list = patches_db['test']\n",
    "    info, weights = func.split_info(train_list, val_list, test_list, \n",
    "                                       model_list, total=len(img_list))\n",
    "    \n",
    "# get information about the instance test dataset\n",
    "test_db = pd.read_csv(ins_test_csv)\n",
    "test_info = []\n",
    "for m in model_list:\n",
    "    tmp = fnmatch.filter(test_db['path'].values, m + '*')\n",
    "    test_info.append(tmp)\n",
    "    print('Instance experiment for camera {} has {} images.'.format(m, len(tmp)))\n",
    "\n",
    "# store class weight to csv\n",
    "df = pd.DataFrame([weights], columns=range(len(model_list)))\n",
    "df.to_csv(ins_weights, index=False)"
   ]
  },
  {
   "cell_type": "code",
   "execution_count": 6,
   "metadata": {},
   "outputs": [
    {
     "name": "stderr",
     "output_type": "stream",
     "text": [
      "100%|██████████| 112/112 [00:00<00:00, 142222.84it/s]"
     ]
    },
    {
     "name": "stdout",
     "output_type": "stream",
     "text": [
      "Instance test for camera Canon_Ixus70 has 380 images.\n",
      "Instance test for camera Nikon_D200 has 380 images.\n",
      "Instance test for camera Olympus_mju-1050SW has 836 images.\n"
     ]
    },
    {
     "name": "stderr",
     "output_type": "stream",
     "text": [
      "\n",
      "100%|██████████| 36/36 [00:00<00:00, 46704.28it/s]\n",
      "100%|██████████| 39/39 [00:00<00:00, 16471.44it/s]\n",
      "100%|██████████| 380/380 [00:00<00:00, 401976.17it/s]\n",
      "100%|██████████| 239/239 [00:00<00:00, 268246.90it/s]\n",
      "100%|██████████| 59/59 [00:00<00:00, 124478.84it/s]\n",
      "100%|██████████| 74/74 [00:00<00:00, 96360.91it/s]\n",
      "100%|██████████| 380/380 [00:00<00:00, 448462.44it/s]\n",
      "100%|██████████| 138/138 [00:00<00:00, 148986.86it/s]\n",
      "100%|██████████| 27/27 [00:00<00:00, 52672.65it/s]\n",
      "100%|██████████| 39/39 [00:00<00:00, 80421.76it/s]\n",
      "100%|██████████| 836/836 [00:00<00:00, 254976.60it/s]\n"
     ]
    }
   ],
   "source": [
    "for i in range(len(model_list)):\n",
    "    func.patch(model_list[i], info[i][0], 'train', patches_root=ins_train_path)\n",
    "    func.patch(model_list[i], info[i][1], 'val' , patches_root=ins_train_path)\n",
    "    func.patch(model_list[i], info[i][2], 'test', patches_root=ins_train_path)\n",
    "    func.patch(model_list[i], test_info[i], '.', patches_root=ins_test_path)"
   ]
  }
 ],
 "metadata": {
  "kernelspec": {
   "display_name": "Python 3",
   "language": "python",
   "name": "python3"
  },
  "language_info": {
   "codemirror_mode": {
    "name": "ipython",
    "version": 3
   },
   "file_extension": ".py",
   "mimetype": "text/x-python",
   "name": "python",
   "nbconvert_exporter": "python",
   "pygments_lexer": "ipython3",
   "version": "3.7.6"
  }
 },
 "nbformat": 4,
 "nbformat_minor": 4
}
