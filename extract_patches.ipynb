{
 "cells": [
  {
   "cell_type": "code",
   "execution_count": 1,
   "metadata": {},
   "outputs": [],
   "source": [
    "import os\n",
    "import numpy as np\n",
    "import warnings\n",
    "import split_extract\n",
    "from multiprocessing import Pool\n",
    "from tqdm import tqdm\n",
    "from params import dresden_images_root, images_db_path, patch_span, \\\n",
    "        patch_num, patches_root, patches_db_path"
   ]
  },
  {
   "cell_type": "code",
   "execution_count": 2,
   "metadata": {},
   "outputs": [],
   "source": [
    "warnings.filterwarnings(\"ignore\")\n",
    "\n",
    "if not os.path.exists(patches_root):\n",
    "    os.makedirs(patches_root)"
   ]
  },
  {
   "cell_type": "code",
   "execution_count": 3,
   "metadata": {},
   "outputs": [
    {
     "name": "stdout",
     "output_type": "stream",
     "text": [
      "Canon_Ixus55 in training set: 156.\n",
      "Canon_Ixus55 in validation set: 28.\n",
      "Canon_Ixus55 in test set: 40.\n",
      "\n",
      "Canon_Ixus70 in training set: 358.\n",
      "Canon_Ixus70 in validation set: 96.\n",
      "Canon_Ixus70 in test set: 113.\n",
      "\n",
      "Canon_PowerShotA640 in training set: 114.\n",
      "Canon_PowerShotA640 in validation set: 32.\n",
      "Canon_PowerShotA640 in test set: 42.\n",
      "\n"
     ]
    }
   ],
   "source": [
    "images_db = np.load(images_db_path, allow_pickle=True).item()\n",
    "\n",
    "model_list = np.unique(images_db['brand_model'])\n",
    "img_list = images_db['path']\n",
    "\n",
    "if not os.path.exists(patches_db_path):\n",
    "    train_list, val_list, test_list = split_extract.split(img_list, model_list, patches_db_path)\n",
    "else:\n",
    "    patches_db = np.load(patches_db_path, allow_pickle=True).item()\n",
    "    train_list = patches_db['train']\n",
    "    val_list = patches_db['val']\n",
    "    test_list = patches_db['test']\n",
    "    split_extract.split_info(train_list, val_list, test_list, model_list)"
   ]
  },
  {
   "cell_type": "code",
   "execution_count": 4,
   "metadata": {},
   "outputs": [],
   "source": [
    "files_labels = dict(zip(images_db['path'], images_db['brand_model']))\n",
    "\n",
    "train_labels = []\n",
    "val_labels = []\n",
    "test_labels = []\n",
    "\n",
    "for path in train_list:\n",
    "    train_labels += [files_labels[path]]\n",
    "    \n",
    "for path in val_list:\n",
    "    val_labels += [files_labels[path]]\n",
    "    \n",
    "for path in test_list:\n",
    "    test_labels += [files_labels[path]]"
   ]
  },
  {
   "cell_type": "code",
   "execution_count": 5,
   "metadata": {},
   "outputs": [
    {
     "name": "stderr",
     "output_type": "stream",
     "text": [
      "979it [00:00, 52436.16it/s]"
     ]
    },
    {
     "name": "stdout",
     "output_type": "stream",
     "text": [
      "Collecting image data...\n"
     ]
    },
    {
     "name": "stderr",
     "output_type": "stream",
     "text": [
      "\n"
     ]
    },
    {
     "name": "stdout",
     "output_type": "stream",
     "text": [
      "Extracting training patches...\n",
      "Extracting validation patches...\n",
      "Extracting testing patches...\n",
      "Completed.\n"
     ]
    }
   ],
   "source": [
    "print('Collecting image data...')\n",
    "train_imgs_list = []\n",
    "val_imgs_list = []\n",
    "test_imgs_list = []\n",
    "\n",
    "for img_brand_model,img_path in \\\n",
    "    tqdm(zip(images_db['brand_model'], images_db['path'])):\n",
    "                   \n",
    "    if img_path in train_list:\n",
    "        train_imgs_list += [{'data_set':'train',\n",
    "                           'img_path':img_path,\n",
    "                           'img_brand_model':img_brand_model,\n",
    "                           'patch_span':patch_span,\n",
    "                           'patch_num':patch_num,\n",
    "                           'patch_root': patches_root,\n",
    "                           'img_root': dresden_images_root\n",
    "                           }]\n",
    "        \n",
    "    elif img_path in val_list:\n",
    "        val_imgs_list += [{'data_set':'val',\n",
    "                           'img_path':img_path,\n",
    "                           'img_brand_model':img_brand_model,\n",
    "                           'patch_span':patch_span,\n",
    "                           'patch_num':patch_num,\n",
    "                           'patch_root': patches_root,\n",
    "                           'img_root': dresden_images_root\n",
    "                           }]\n",
    "        \n",
    "    else:\n",
    "        test_imgs_list += [{'data_set':'test',\n",
    "                           'img_path':img_path,\n",
    "                           'img_brand_model':img_brand_model,\n",
    "                           'patch_span':patch_span,\n",
    "                           'patch_num':patch_num,\n",
    "                           'patch_root': patches_root,\n",
    "                           'img_root': dresden_images_root\n",
    "                           }]\n",
    "\n",
    "num_processes = 12\n",
    "# num_processes = 4\n",
    "pool = Pool(processes=num_processes)\n",
    "\n",
    "print('Extracting training patches...')\n",
    "train_paths = pool.map(split_extract.extract, train_imgs_list)\n",
    "print('Extracting validation patches...')\n",
    "val_paths = pool.map(split_extract.extract, val_imgs_list)\n",
    "print('Extracting testing patches...')\n",
    "test_paths = pool.map(split_extract.extract, test_imgs_list)\n",
    "print('Completed.')"
   ]
  }
 ],
 "metadata": {
  "kernelspec": {
   "display_name": "Python 3",
   "language": "python",
   "name": "python3"
  },
  "language_info": {
   "codemirror_mode": {
    "name": "ipython",
    "version": 3
   },
   "file_extension": ".py",
   "mimetype": "text/x-python",
   "name": "python",
   "nbconvert_exporter": "python",
   "pygments_lexer": "ipython3",
   "version": "3.7.6"
  }
 },
 "nbformat": 4,
 "nbformat_minor": 4
}
