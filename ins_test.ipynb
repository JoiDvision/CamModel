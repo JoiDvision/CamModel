{
 "cells": [
  {
   "cell_type": "code",
   "execution_count": 1,
   "metadata": {},
   "outputs": [],
   "source": [
    "import os\n",
    "import urllib\n",
    "import pandas as pd\n",
    "from skimage import io\n",
    "from tqdm import tqdm\n",
    "import numpy as np\n",
    "from params import dresden_images_root, dresden_csv, images_db_path"
   ]
  },
  {
   "cell_type": "code",
   "execution_count": 2,
   "metadata": {},
   "outputs": [],
   "source": [
    "path_list = []\n",
    "brand_model_list = []"
   ]
  },
  {
   "cell_type": "code",
   "execution_count": 27,
   "metadata": {},
   "outputs": [],
   "source": [
    "# Create output folder if needed\n",
    "if not os.path.exists(dresden_images_root):\n",
    "    os.makedirs(dresden_images_root)\n",
    "\n",
    "data = pd.read_csv(dresden_csv)\n",
    "data = data[(data['brand'] == 'Canon') & (data['instance'] == 0)]"
   ]
  },
  {
   "cell_type": "code",
   "execution_count": null,
   "metadata": {},
   "outputs": [],
   "source": [
    "# if the size of all images are not zero, then append to the list\n",
    "if all(img.shape[:2]):\n",
    "    count += 1\n",
    "    brand_model = '_'.join([brand, model])\n",
    "    brand_model_list.append(brand_model) \n",
    "    path_list.append(filename)"
   ]
  },
  {
   "cell_type": "code",
   "execution_count": null,
   "metadata": {},
   "outputs": [],
   "source": [
    "# create a images database as a dictionary\n",
    "images_db = {\n",
    "    'brand_model': np.asarray(brand_model_list).flatten(),\n",
    "    'path': np.asarray(path_list).flatten(),\n",
    "}\n",
    "np.save(images_db_path, images_db)\n",
    "\n",
    "print('Completed.')"
   ]
  },
  {
   "cell_type": "code",
   "execution_count": 4,
   "metadata": {},
   "outputs": [],
   "source": [
    "csv_rows = []\n",
    "for i in range((data.shape[0])): \n",
    "    csv_rows.append(list(data.iloc[i, :])) "
   ]
  },
  {
   "cell_type": "code",
   "execution_count": 5,
   "metadata": {},
   "outputs": [],
   "source": [
    "count = 0\n",
    "for csv_row in tqdm(csv_rows):\n",
    "\n",
    "    filename, brand, model = csv_row[0:3]\n",
    "    url = csv_row[-1]\n",
    "\n",
    "    file_path = os.path.join(dresden_images_root,filename)\n",
    "\n",
    "    try:\n",
    "        if not os.path.exists(file_path):\n",
    "            print('Downloading {:}'.format(filename))\n",
    "            urllib.request.urlretrieve(url, file_path)\n",
    "\n",
    "        # Load the image and check its dimensions\n",
    "        img = io.imread(file_path)\n",
    "\n",
    "        if img is None or not isinstance(img, np.ndarray):\n",
    "            print('Unable to read image: {:}'.format(filename))\n",
    "            # removes (deletes) the file path\n",
    "            os.unlink(file_path)\n",
    "\n",
    "        # if the size of all images are not zero, then append to the list\n",
    "        if all(img.shape[:2]):\n",
    "            count += 1\n",
    "            brand_model = '_'.join([brand, model])\n",
    "            brand_model_list.append(brand_model) \n",
    "            path_list.append(filename)\n",
    "\n",
    "        else:\n",
    "            print('Zero-sized image: {:}'.format(filename))\n",
    "            os.unlink(file_path)\n",
    "\n",
    "    except IOError:\n",
    "        print('Unable to decode: {:}'.format(filename))\n",
    "        os.unlink(file_path)\n",
    "\n",
    "    except Exception as e:\n",
    "        print('Error while loading: {:}'.format(filename))\n",
    "        if os.path.exists(file_path):\n",
    "            os.unlink(file_path)\n",
    "\n",
    "print('Number of images: {:}'.format(len(path_list)))\n",
    "\n",
    "print('Saving db to: {:}'.format(images_db_path))\n",
    "\n",
    "# create a images database as a dictionary\n",
    "images_db = {\n",
    "    'brand_model': np.asarray(brand_model_list).flatten(),\n",
    "    'path': np.asarray(path_list).flatten(),\n",
    "}\n",
    "np.save(images_db_path, images_db)\n",
    "\n",
    "print('Completed.')"
   ]
  }
 ],
 "metadata": {
  "kernelspec": {
   "display_name": "Python 3",
   "language": "python",
   "name": "python3"
  },
  "language_info": {
   "codemirror_mode": {
    "name": "ipython",
    "version": 3
   },
   "file_extension": ".py",
   "mimetype": "text/x-python",
   "name": "python",
   "nbconvert_exporter": "python",
   "pygments_lexer": "ipython3",
   "version": "3.7.6"
  }
 },
 "nbformat": 4,
 "nbformat_minor": 4
}
