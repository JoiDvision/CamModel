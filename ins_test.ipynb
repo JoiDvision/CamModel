{
 "cells": [
  {
   "cell_type": "code",
   "execution_count": 1,
   "metadata": {},
   "outputs": [],
   "source": [
    "import tensorflow as tf"
   ]
  },
  {
   "cell_type": "code",
   "execution_count": 2,
   "metadata": {},
   "outputs": [],
   "source": [
    "gpus = tf.config.experimental.list_physical_devices('GPU')\n",
    "tf.config.experimental.set_memory_growth(gpus[0], True)"
   ]
  },
  {
   "cell_type": "code",
   "execution_count": 3,
   "metadata": {},
   "outputs": [],
   "source": [
    "import os\n",
    "import datetime\n",
    "import numpy as np\n",
    "import pandas as pd\n",
    "import warnings\n",
    "import network\n",
    "import split_extract\n",
    "from multiprocessing import Pool\n",
    "from tqdm import tqdm\n",
    "from params import dresden_images_root, dresden_csv, ins_root, ins_csv, patch_span, \\\n",
    "        patch_num, ins_patches, ins_patches_db, ins_test\n",
    "from tensorflow.keras.preprocessing.image import ImageDataGenerator\n",
    "from tensorflow.keras.callbacks import ModelCheckpoint, EarlyStopping, Callback"
   ]
  },
  {
   "cell_type": "code",
   "execution_count": 4,
   "metadata": {},
   "outputs": [
    {
     "name": "stdout",
     "output_type": "stream",
     "text": [
      "Found 2976 images belonging to 3 classes.\n"
     ]
    }
   ],
   "source": [
    "# Define image and batch size\n",
    "img_height = 256\n",
    "img_width = 256\n",
    "batch_size = 64\n",
    "\n",
    "# Load and Compile the model\n",
    "model = tf.keras.models.load_model('./instance/model.h5')\n",
    "\n",
    "sgd = tf.keras.optimizers.SGD(lr=0.001, momentum=0.95, decay=0.0004)\n",
    "\n",
    "model.compile(\n",
    "    optimizer=sgd, \n",
    "    loss='binary_crossentropy', \n",
    "    metrics=['accuracy'])\n",
    "\n",
    "# Create the Generator\n",
    "test_data_gen = ImageDataGenerator(preprocessing_function=None,\n",
    "    rescale=1./255)\n",
    "\n",
    "# Read the positive test samples.\n",
    "test_generator = test_data_gen.flow_from_directory(\n",
    "                  directory = r\"./instance/patches/test/\",\n",
    "                  target_size=(img_width, img_height), color_mode='grayscale', shuffle=True,\n",
    "                  batch_size=batch_size, class_mode=\"categorical\")"
   ]
  },
  {
   "cell_type": "code",
   "execution_count": 5,
   "metadata": {},
   "outputs": [
    {
     "name": "stdout",
     "output_type": "stream",
     "text": [
      "\n",
      "# Evaluate on test data\n",
      "47/47 [==============================] - 10s 210ms/step - loss: 0.0954 - accuracy: 0.9814\n",
      "test loss, test acc: [0.09535113160320102, 0.98140675]\n"
     ]
    }
   ],
   "source": [
    "print('\\n# Evaluate on test data')\n",
    "results = model.evaluate(test_generator)\n",
    "print('test loss, test acc:', results)"
   ]
  },
  {
   "cell_type": "code",
   "execution_count": 6,
   "metadata": {},
   "outputs": [],
   "source": [
    "warnings.filterwarnings(\"ignore\")\n",
    "\n",
    "if not os.path.exists(ins_test):\n",
    "    os.makedirs(ins_test)\n",
    "        \n",
    "data = pd.read_csv(dresden_csv)\n",
    "data = data[(data['brand'] == 'Canon') & (data['instance'] != 0)]"
   ]
  },
  {
   "cell_type": "code",
   "execution_count": 7,
   "metadata": {},
   "outputs": [
    {
     "name": "stderr",
     "output_type": "stream",
     "text": [
      "380it [00:00, 226622.43it/s]"
     ]
    },
    {
     "name": "stdout",
     "output_type": "stream",
     "text": [
      "Collecting image data...\n"
     ]
    },
    {
     "name": "stderr",
     "output_type": "stream",
     "text": [
      "\n"
     ]
    },
    {
     "name": "stdout",
     "output_type": "stream",
     "text": [
      "Completed.\n"
     ]
    }
   ],
   "source": [
    "brand_model = ['_'.join([brand, model]) for brand, model in zip(data['brand'],data['model'])]\n",
    "\n",
    "print('Collecting image data...')\n",
    "imgs_list = []\n",
    "\n",
    "for img_brand_model, img_path in \\\n",
    "    tqdm(zip(brand_model, data['filename'])):\n",
    "        imgs_list += [{'data_set':'patches',\n",
    "                           'img_path':img_path,\n",
    "                           'img_brand_model':img_brand_model,\n",
    "                           'patch_span':patch_span,\n",
    "                           'patch_num':patch_num,\n",
    "                           'patch_root': ins_test,\n",
    "                           'img_root': dresden_images_root\n",
    "                           }]\n",
    "# num_processes = 12\n",
    "num_processes = 4\n",
    "pool = Pool(processes=num_processes)\n",
    "test_paths = pool.map(split_extract.extract, imgs_list)\n",
    "print('Completed.')"
   ]
  },
  {
   "cell_type": "code",
   "execution_count": 8,
   "metadata": {},
   "outputs": [
    {
     "name": "stdout",
     "output_type": "stream",
     "text": [
      "Found 9500 images belonging to 1 classes.\n",
      "\n",
      "# Evaluate on test data\n",
      "149/149 [==============================] - 22s 145ms/step - loss: 7.8532 - accuracy: 0.3331\n"
     ]
    }
   ],
   "source": [
    "# Read the positive test samples.\n",
    "test_generator = test_data_gen.flow_from_directory(\n",
    "                  directory = r\"./instance/test/patches/\",\n",
    "                  target_size=(img_width, img_height), color_mode='grayscale', shuffle=True,\n",
    "                  batch_size=batch_size, class_mode=\"categorical\")\n",
    "\n",
    "print('\\n# Evaluate on test data')\n",
    "results = model.evaluate(test_generator)"
   ]
  },
  {
   "cell_type": "code",
   "execution_count": 9,
   "metadata": {},
   "outputs": [
    {
     "name": "stdout",
     "output_type": "stream",
     "text": [
      "Found 9500 images belonging to 1 classes.\n",
      "              Canon_Ixus55  Canon_Ixus70  Canon_PowerShotA640\n",
      "Canon_Ixus70            54          4415                   11\n"
     ]
    },
    {
     "data": {
      "text/plain": [
       "<matplotlib.axes._subplots.AxesSubplot at 0x7f2d545fc2d0>"
      ]
     },
     "execution_count": 9,
     "metadata": {},
     "output_type": "execute_result"
    },
    {
     "data": {
      "image/png": "[encoded data removed]",
      "text/plain": [
       "<Figure size 360x360 with 1 Axes>"
      ]
     },
     "metadata": {
      "needs_background": "light"
     },
     "output_type": "display_data"
    }
   ],
   "source": [
    "# Read the positive test samples.\n",
    "test_generator = test_data_gen.flow_from_directory(\n",
    "                  directory = r\"./instance/test/patches/\",\n",
    "                  target_size=(img_width, img_height), color_mode='grayscale', shuffle=True,\n",
    "                  batch_size=batch_size, class_mode=\"categorical\")\n",
    "\n",
    "df1 = pd.read_csv(ins_csv)\n",
    "test_model = os.listdir(os.path.join(ins_test, 'patches'))\n",
    "model_list = np.unique(df1['brand_model'])\n",
    "\n",
    "# generate a histogram, which for every unseen models, how many imgs are classified.\n",
    "hist = [[0, 0, 0] for i in range(len(test_model))]\n",
    "\n",
    "for i in range(70):\n",
    "    gen = next(test_generator)\n",
    "    pred = model.predict(gen[0])\n",
    "    pred_labels = np.argmax(pred, axis=1)\n",
    "    real_labels = np.argmax(gen[1], axis=1)\n",
    "    for j in range(len(pred_labels)):\n",
    "        hist[real_labels[j]][pred_labels[j]] += 1\n",
    "\n",
    "        \n",
    "df = pd.DataFrame(hist, index=test_model, columns=model_list)\n",
    "print(df)\n",
    "\n",
    "df.plot.bar(stacked=True, figsize=(5, 5), title='Classify Nikon and Sony with trained Canon Model')"
   ]
  }
 ],
 "metadata": {
  "kernelspec": {
   "display_name": "Python 3",
   "language": "python",
   "name": "python3"
  },
  "language_info": {
   "codemirror_mode": {
    "name": "ipython",
    "version": 3
   },
   "file_extension": ".py",
   "mimetype": "text/x-python",
   "name": "python",
   "nbconvert_exporter": "python",
   "pygments_lexer": "ipython3",
   "version": "3.7.6"
  }
 },
 "nbformat": 4,
 "nbformat_minor": 4
}
