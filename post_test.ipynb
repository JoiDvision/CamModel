{
 "cells": [
  {
   "cell_type": "code",
   "execution_count": 1,
   "metadata": {},
   "outputs": [],
   "source": [
    "import tensorflow as tf"
   ]
  },
  {
   "cell_type": "code",
   "execution_count": 2,
   "metadata": {},
   "outputs": [],
   "source": [
    "gpus = tf.config.experimental.list_physical_devices('GPU')\n",
    "tf.config.experimental.set_memory_growth(gpus[0], True)"
   ]
  },
  {
   "cell_type": "code",
   "execution_count": 3,
   "metadata": {},
   "outputs": [],
   "source": [
    "import numpy as np\n",
    "import os\n",
    "import sys\n",
    "import pandas as pd\n",
    "import func\n",
    "import matplotlib.pyplot as plt\n",
    "import tikzplotlib\n",
    "from skimage.util import random_noise\n",
    "from skimage import io, filters, img_as_ubyte\n",
    "from PIL import Image\n",
    "from tensorflow.keras.preprocessing.image import ImageDataGenerator\n",
    "from params import dresden_images_root, patches_root, patches_db_path, train_csv_path, \\\n",
    "post_root, compr_img, noise_img, blur_img"
   ]
  },
  {
   "cell_type": "code",
   "execution_count": 4,
   "metadata": {},
   "outputs": [],
   "source": [
    "train_db = pd.read_csv(train_csv_path)\n",
    "model_list = np.unique(train_db['brand_model']) \n",
    "img_path = [] # path of the images\n",
    "file_name = [] # file name of the images\n",
    "img_num = [] # number of images of each camera\n",
    "label_list = []\n",
    "compr_path = [] # path of compressed images\n",
    "noise_path = []\n",
    "blur_path = []\n",
    "\n",
    "for model in model_list: \n",
    "    tmp = os.listdir(os.path.join(patches_root, 'test', model))\n",
    "    img_num.append(len(tmp))\n",
    "    file_name += tmp\n",
    "    img_path += [os.path.join(patches_root, 'test', model, img) for img in tmp]\n",
    "    # create dir for each camera for every post-processing technique\n",
    "    for proc in [compr_img, noise_img, blur_img]:\n",
    "        path = os.path.join(proc, model)\n",
    "        if not os.path.exists(path):\n",
    "            os.makedirs(path)\n",
    "    \n",
    "for i in range(len(img_num)):\n",
    "    label_list += [model_list[i]]* img_num[i]\n",
    "\n",
    "for img, label in zip(file_name, label_list):\n",
    "    compr_path += [os.path.join(compr_img, label, img)]\n",
    "    noise_path += [os.path.join(noise_img, label, img)]\n",
    "    blur_path += [os.path.join(blur_img, label, img)]\n",
    "    \n",
    "model_list = [m.replace(\"_\", \" \") for m in model_list]"
   ]
  },
  {
   "cell_type": "code",
   "execution_count": 5,
   "metadata": {},
   "outputs": [],
   "source": [
    "# Compress to JPEG, QF = 70\n",
    "for img, path in zip(img_path, compr_path):\n",
    "    if not os.path.exists(path):          \n",
    "        im = Image.open(img)\n",
    "        im.save(path, 'JPEG', quality=70, optimize=True)"
   ]
  },
  {
   "cell_type": "code",
   "execution_count": 6,
   "metadata": {},
   "outputs": [],
   "source": [
    "# Adding Gaussian Noise\n",
    "mean = 0\n",
    "sigma = 2/255\n",
    "height, width = (256, 256)\n",
    "\n",
    "for img, path in zip(img_path, noise_path):\n",
    "    if not os.path.exists(path): \n",
    "        image = io.imread(img)\n",
    "        noisy = random_noise(image, mode='gaussian', mean=0, var=sigma**2)\n",
    "        io.imsave(path, img_as_ubyte(noisy), check_contrast=False)"
   ]
  },
  {
   "cell_type": "code",
   "execution_count": 7,
   "metadata": {},
   "outputs": [],
   "source": [
    "# Adding Gaussian Blur\n",
    "for img, path in zip(img_path, blur_path):\n",
    "    if not os.path.exists(path): \n",
    "        image = io.imread(img)\n",
    "        blur = filters.gaussian(image, sigma=1.1, truncate=2.0)\n",
    "        io.imsave(path, img_as_ubyte(blur), check_contrast=False)"
   ]
  },
  {
   "cell_type": "code",
   "execution_count": 8,
   "metadata": {},
   "outputs": [],
   "source": [
    "# Define image and batch size\n",
    "img_height = 256\n",
    "img_width = 256\n",
    "batch_size = 64\n",
    "\n",
    "# Load and Compile the model\n",
    "model = tf.keras.models.load_model('./model.h5')\n",
    "\n",
    "sgd = tf.keras.optimizers.SGD(lr=0.001, momentum=0.95, decay=0.0004)\n",
    "\n",
    "model.compile(\n",
    "    optimizer=sgd, \n",
    "    loss='binary_crossentropy', \n",
    "    metrics=['accuracy'])\n",
    "\n",
    "# Create the Generator\n",
    "test_data_gen = ImageDataGenerator(preprocessing_function=None,\n",
    "    rescale=1./255)"
   ]
  },
  {
   "cell_type": "code",
   "execution_count": 9,
   "metadata": {},
   "outputs": [
    {
     "name": "stdout",
     "output_type": "stream",
     "text": [
      "Found 11775 images belonging to 3 classes.\n",
      "\n",
      "It tooks 22 seconds\n",
      "\n",
      "columns are predictions, index are ground truth\n",
      "\n"
     ]
    },
    {
     "data": {
      "text/html": [
       "<div>\n",
       "<style scoped>\n",
       "    .dataframe tbody tr th:only-of-type {\n",
       "        vertical-align: middle;\n",
       "    }\n",
       "\n",
       "    .dataframe tbody tr th {\n",
       "        vertical-align: top;\n",
       "    }\n",
       "\n",
       "    .dataframe thead th {\n",
       "        text-align: right;\n",
       "    }\n",
       "</style>\n",
       "<table border=\"1\" class=\"dataframe\">\n",
       "  <thead>\n",
       "    <tr style=\"text-align: right;\">\n",
       "      <th></th>\n",
       "      <th>Canon Ixus70</th>\n",
       "      <th>Nikon D200</th>\n",
       "      <th>Olympus mju-1050SW</th>\n",
       "    </tr>\n",
       "  </thead>\n",
       "  <tbody>\n",
       "    <tr>\n",
       "      <th>Canon Ixus70</th>\n",
       "      <td>836</td>\n",
       "      <td>249</td>\n",
       "      <td>354</td>\n",
       "    </tr>\n",
       "    <tr>\n",
       "      <th>Nikon D200</th>\n",
       "      <td>68</td>\n",
       "      <td>1758</td>\n",
       "      <td>60</td>\n",
       "    </tr>\n",
       "    <tr>\n",
       "      <th>Olympus mju-1050SW</th>\n",
       "      <td>484</td>\n",
       "      <td>495</td>\n",
       "      <td>2096</td>\n",
       "    </tr>\n",
       "  </tbody>\n",
       "</table>\n",
       "</div>"
      ],
      "text/plain": [
       "                    Canon Ixus70  Nikon D200  Olympus mju-1050SW\n",
       "Canon Ixus70                 836         249                 354\n",
       "Nikon D200                    68        1758                  60\n",
       "Olympus mju-1050SW           484         495                2096"
      ]
     },
     "metadata": {},
     "output_type": "display_data"
    },
    {
     "data": {
      "image/png": "[encoded data removed]",
      "text/plain": [
       "<Figure size 720x360 with 1 Axes>"
      ]
     },
     "metadata": {
      "needs_background": "light"
     },
     "output_type": "display_data"
    }
   ],
   "source": [
    "# Read the positive test samples.\n",
    "compr_generator = test_data_gen.flow_from_directory(\n",
    "                  directory = r\"./post/compr/\",\n",
    "                  target_size=(img_width, img_height), color_mode='grayscale', shuffle=True,\n",
    "                  batch_size=batch_size, class_mode=\"categorical\")\n",
    "\n",
    "# print('\\n# Evaluate on test data')\n",
    "# results = model.evaluate(compr_generator)\n",
    "\n",
    "hist, conf, pred_labels, real_labels = func.evaluate(model_list, compr_generator, model, index=model_list, columns=model_list, \n",
    "                                   title='Classifying Compressed Images', num_batch=100, tex=True)"
   ]
  },
  {
   "cell_type": "code",
   "execution_count": 10,
   "metadata": {},
   "outputs": [
    {
     "name": "stdout",
     "output_type": "stream",
     "text": [
      "The mean of the confidence is: \n",
      "\n"
     ]
    },
    {
     "data": {
      "text/html": [
       "<div>\n",
       "<style scoped>\n",
       "    .dataframe tbody tr th:only-of-type {\n",
       "        vertical-align: middle;\n",
       "    }\n",
       "\n",
       "    .dataframe tbody tr th {\n",
       "        vertical-align: top;\n",
       "    }\n",
       "\n",
       "    .dataframe thead th {\n",
       "        text-align: right;\n",
       "    }\n",
       "</style>\n",
       "<table border=\"1\" class=\"dataframe\">\n",
       "  <thead>\n",
       "    <tr style=\"text-align: right;\">\n",
       "      <th></th>\n",
       "      <th>Canon Ixus70</th>\n",
       "      <th>Nikon D200</th>\n",
       "      <th>Olympus mju-1050SW</th>\n",
       "    </tr>\n",
       "  </thead>\n",
       "  <tbody>\n",
       "    <tr>\n",
       "      <th>Canon Ixus70</th>\n",
       "      <td>0.948431</td>\n",
       "      <td>0.757651</td>\n",
       "      <td>0.791218</td>\n",
       "    </tr>\n",
       "    <tr>\n",
       "      <th>Nikon D200</th>\n",
       "      <td>0.826271</td>\n",
       "      <td>0.970757</td>\n",
       "      <td>0.748564</td>\n",
       "    </tr>\n",
       "    <tr>\n",
       "      <th>Olympus mju-1050SW</th>\n",
       "      <td>0.814468</td>\n",
       "      <td>0.784488</td>\n",
       "      <td>0.894988</td>\n",
       "    </tr>\n",
       "  </tbody>\n",
       "</table>\n",
       "</div>"
      ],
      "text/plain": [
       "                    Canon Ixus70  Nikon D200  Olympus mju-1050SW\n",
       "Canon Ixus70            0.948431    0.757651            0.791218\n",
       "Nikon D200              0.826271    0.970757            0.748564\n",
       "Olympus mju-1050SW      0.814468    0.784488            0.894988"
      ]
     },
     "metadata": {},
     "output_type": "display_data"
    },
    {
     "name": "stdout",
     "output_type": "stream",
     "text": [
      "The standard deviation of the confidence is: \n",
      "\n"
     ]
    },
    {
     "data": {
      "text/html": [
       "<div>\n",
       "<style scoped>\n",
       "    .dataframe tbody tr th:only-of-type {\n",
       "        vertical-align: middle;\n",
       "    }\n",
       "\n",
       "    .dataframe tbody tr th {\n",
       "        vertical-align: top;\n",
       "    }\n",
       "\n",
       "    .dataframe thead th {\n",
       "        text-align: right;\n",
       "    }\n",
       "</style>\n",
       "<table border=\"1\" class=\"dataframe\">\n",
       "  <thead>\n",
       "    <tr style=\"text-align: right;\">\n",
       "      <th></th>\n",
       "      <th>Canon Ixus70</th>\n",
       "      <th>Nikon D200</th>\n",
       "      <th>Olympus mju-1050SW</th>\n",
       "    </tr>\n",
       "  </thead>\n",
       "  <tbody>\n",
       "    <tr>\n",
       "      <th>Canon Ixus70</th>\n",
       "      <td>0.014579</td>\n",
       "      <td>0.026733</td>\n",
       "      <td>0.025102</td>\n",
       "    </tr>\n",
       "    <tr>\n",
       "      <th>Nikon D200</th>\n",
       "      <td>0.030221</td>\n",
       "      <td>0.005778</td>\n",
       "      <td>0.024254</td>\n",
       "    </tr>\n",
       "    <tr>\n",
       "      <th>Olympus mju-1050SW</th>\n",
       "      <td>0.029913</td>\n",
       "      <td>0.028986</td>\n",
       "      <td>0.020614</td>\n",
       "    </tr>\n",
       "  </tbody>\n",
       "</table>\n",
       "</div>"
      ],
      "text/plain": [
       "                    Canon Ixus70  Nikon D200  Olympus mju-1050SW\n",
       "Canon Ixus70            0.014579    0.026733            0.025102\n",
       "Nikon D200              0.030221    0.005778            0.024254\n",
       "Olympus mju-1050SW      0.029913    0.028986            0.020614"
      ]
     },
     "metadata": {},
     "output_type": "display_data"
    },
    {
     "data": {
      "image/png": "[encoded data removed]",
      "text/plain": [
       "<Figure size 720x360 with 1 Axes>"
      ]
     },
     "metadata": {
      "needs_background": "light"
     },
     "output_type": "display_data"
    }
   ],
   "source": [
    "tex = True\n",
    "df_mean, df_error = func.mean_error(conf, pred_labels, real_labels,\n",
    "                                    real_model=model_list, pred_model=model_list)\n",
    "if tex:\n",
    "    ax = df_mean.plot.bar(yerr=df_error, capsize=5, figsize=(10, 5))\n",
    "    for p in ax.patches:\n",
    "        ax.annotate(f\"{p.get_height():.2f}\", (p.get_x() * 1.008, p.get_height() * 1.008))\n",
    "    tikzplotlib.save(\"test_conf.tex\")\n",
    "    plt.tight_layout()\n",
    "    \n",
    "else:\n",
    "    fig, axes = plt.subplots(nrows=2, ncols=2, figsize=(20, 10))\n",
    "    df_mean.plot.bar(yerr=df_error, ax=axes[0,0], capsize=4)\n",
    "    graph = {0:axes[0,1], 1:axes[1,0], 2:axes[1, 1]}\n",
    "    func.plot_conf(conf, pred_labels, real_labels, graph, real_model=model_list, pred_model=model_list)\n",
    "    \n",
    "plt.tight_layout()"
   ]
  },
  {
   "cell_type": "code",
   "execution_count": 12,
   "metadata": {},
   "outputs": [
    {
     "name": "stdout",
     "output_type": "stream",
     "text": [
      "Found 11775 images belonging to 3 classes.\n",
      "\n",
      "It tooks 81 seconds\n",
      "\n",
      "columns are predictions, index are ground truth\n",
      "\n"
     ]
    },
    {
     "data": {
      "text/html": [
       "<div>\n",
       "<style scoped>\n",
       "    .dataframe tbody tr th:only-of-type {\n",
       "        vertical-align: middle;\n",
       "    }\n",
       "\n",
       "    .dataframe tbody tr th {\n",
       "        vertical-align: top;\n",
       "    }\n",
       "\n",
       "    .dataframe thead th {\n",
       "        text-align: right;\n",
       "    }\n",
       "</style>\n",
       "<table border=\"1\" class=\"dataframe\">\n",
       "  <thead>\n",
       "    <tr style=\"text-align: right;\">\n",
       "      <th></th>\n",
       "      <th>Canon Ixus70</th>\n",
       "      <th>Nikon D200</th>\n",
       "      <th>Olympus mju-1050SW</th>\n",
       "    </tr>\n",
       "  </thead>\n",
       "  <tbody>\n",
       "    <tr>\n",
       "      <th>Canon Ixus70</th>\n",
       "      <td>1364</td>\n",
       "      <td>7</td>\n",
       "      <td>0</td>\n",
       "    </tr>\n",
       "    <tr>\n",
       "      <th>Nikon D200</th>\n",
       "      <td>871</td>\n",
       "      <td>1106</td>\n",
       "      <td>0</td>\n",
       "    </tr>\n",
       "    <tr>\n",
       "      <th>Olympus mju-1050SW</th>\n",
       "      <td>2315</td>\n",
       "      <td>19</td>\n",
       "      <td>718</td>\n",
       "    </tr>\n",
       "  </tbody>\n",
       "</table>\n",
       "</div>"
      ],
      "text/plain": [
       "                    Canon Ixus70  Nikon D200  Olympus mju-1050SW\n",
       "Canon Ixus70                1364           7                   0\n",
       "Nikon D200                   871        1106                   0\n",
       "Olympus mju-1050SW          2315          19                 718"
      ]
     },
     "metadata": {},
     "output_type": "display_data"
    },
    {
     "name": "stdout",
     "output_type": "stream",
     "text": [
      "The mean of the confidence is: \n",
      "\n"
     ]
    },
    {
     "data": {
      "text/html": [
       "<div>\n",
       "<style scoped>\n",
       "    .dataframe tbody tr th:only-of-type {\n",
       "        vertical-align: middle;\n",
       "    }\n",
       "\n",
       "    .dataframe tbody tr th {\n",
       "        vertical-align: top;\n",
       "    }\n",
       "\n",
       "    .dataframe thead th {\n",
       "        text-align: right;\n",
       "    }\n",
       "</style>\n",
       "<table border=\"1\" class=\"dataframe\">\n",
       "  <thead>\n",
       "    <tr style=\"text-align: right;\">\n",
       "      <th></th>\n",
       "      <th>Canon Ixus70</th>\n",
       "      <th>Nikon D200</th>\n",
       "      <th>Olympus mju-1050SW</th>\n",
       "    </tr>\n",
       "  </thead>\n",
       "  <tbody>\n",
       "    <tr>\n",
       "      <th>Canon Ixus70</th>\n",
       "      <td>0.997326</td>\n",
       "      <td>0.771356</td>\n",
       "      <td>0.000000</td>\n",
       "    </tr>\n",
       "    <tr>\n",
       "      <th>Nikon D200</th>\n",
       "      <td>0.898575</td>\n",
       "      <td>0.898064</td>\n",
       "      <td>0.000000</td>\n",
       "    </tr>\n",
       "    <tr>\n",
       "      <th>Olympus mju-1050SW</th>\n",
       "      <td>0.966319</td>\n",
       "      <td>0.713302</td>\n",
       "      <td>0.924066</td>\n",
       "    </tr>\n",
       "  </tbody>\n",
       "</table>\n",
       "</div>"
      ],
      "text/plain": [
       "                    Canon Ixus70  Nikon D200  Olympus mju-1050SW\n",
       "Canon Ixus70            0.997326    0.771356            0.000000\n",
       "Nikon D200              0.898575    0.898064            0.000000\n",
       "Olympus mju-1050SW      0.966319    0.713302            0.924066"
      ]
     },
     "metadata": {},
     "output_type": "display_data"
    },
    {
     "name": "stdout",
     "output_type": "stream",
     "text": [
      "The standard deviation of the confidence is: \n",
      "\n"
     ]
    },
    {
     "data": {
      "text/html": [
       "<div>\n",
       "<style scoped>\n",
       "    .dataframe tbody tr th:only-of-type {\n",
       "        vertical-align: middle;\n",
       "    }\n",
       "\n",
       "    .dataframe tbody tr th {\n",
       "        vertical-align: top;\n",
       "    }\n",
       "\n",
       "    .dataframe thead th {\n",
       "        text-align: right;\n",
       "    }\n",
       "</style>\n",
       "<table border=\"1\" class=\"dataframe\">\n",
       "  <thead>\n",
       "    <tr style=\"text-align: right;\">\n",
       "      <th></th>\n",
       "      <th>Canon Ixus70</th>\n",
       "      <th>Nikon D200</th>\n",
       "      <th>Olympus mju-1050SW</th>\n",
       "    </tr>\n",
       "  </thead>\n",
       "  <tbody>\n",
       "    <tr>\n",
       "      <th>Canon Ixus70</th>\n",
       "      <td>0.000663</td>\n",
       "      <td>0.015097</td>\n",
       "      <td>0.000000</td>\n",
       "    </tr>\n",
       "    <tr>\n",
       "      <th>Nikon D200</th>\n",
       "      <td>0.019657</td>\n",
       "      <td>0.017955</td>\n",
       "      <td>0.000000</td>\n",
       "    </tr>\n",
       "    <tr>\n",
       "      <th>Olympus mju-1050SW</th>\n",
       "      <td>0.007175</td>\n",
       "      <td>0.034221</td>\n",
       "      <td>0.016115</td>\n",
       "    </tr>\n",
       "  </tbody>\n",
       "</table>\n",
       "</div>"
      ],
      "text/plain": [
       "                    Canon Ixus70  Nikon D200  Olympus mju-1050SW\n",
       "Canon Ixus70            0.000663    0.015097            0.000000\n",
       "Nikon D200              0.019657    0.017955            0.000000\n",
       "Olympus mju-1050SW      0.007175    0.034221            0.016115"
      ]
     },
     "metadata": {},
     "output_type": "display_data"
    },
    {
     "data": {
      "image/png": "[encoded data removed]",
      "text/plain": [
       "<Figure size 720x360 with 1 Axes>"
      ]
     },
     "metadata": {
      "needs_background": "light"
     },
     "output_type": "display_data"
    },
    {
     "data": {
      "image/png": "[encoded data removed]",
      "text/plain": [
       "<Figure size 720x360 with 1 Axes>"
      ]
     },
     "metadata": {
      "needs_background": "light"
     },
     "output_type": "display_data"
    }
   ],
   "source": [
    "# Read the positive test samples.\n",
    "noise_generator = test_data_gen.flow_from_directory(\n",
    "                  directory = r\"./post/noise/\",\n",
    "                  target_size=(img_width, img_height), color_mode='grayscale', shuffle=True,\n",
    "                  batch_size=batch_size, class_mode=\"categorical\")\n",
    "\n",
    "# print('\\n# Evaluate on test data')\n",
    "# results = model.evaluate(noise_generator)\n",
    "\n",
    "hist, conf, pred_labels, real_labels = func.evaluate(model_list, noise_generator, model, index=model_list, columns=model_list, \n",
    "                                   title='Classifying Noisy Images', num_batch=100, tex=True)\n",
    "\n",
    "tex = True\n",
    "df_mean, df_error = func.mean_error(conf, pred_labels, real_labels,\n",
    "                                    real_model=model_list, pred_model=model_list)\n",
    "if tex:\n",
    "    ax = df_mean.plot.bar(yerr=df_error, capsize=5, figsize=(10, 5))\n",
    "    for p in ax.patches:\n",
    "        ax.annotate(f\"{p.get_height():.2f}\", (p.get_x() * 1.008, p.get_height() * 1.008))\n",
    "    tikzplotlib.save(\"test_conf.tex\")    \n",
    "else:\n",
    "    fig, axes = plt.subplots(nrows=2, ncols=2, figsize=(20, 10))\n",
    "    ax = df_mean.plot.bar(yerr=df_error, ax=axes[0,0], capsize=4)\n",
    "    for p in ax.patches:\n",
    "        ax.annotate(f\"{p.get_height():.2f}\", (p.get_x() * 1.008, p.get_height() * 1.008))\n",
    "    graph = {0:axes[0,1], 1:axes[1,0], 2:axes[1, 1]}\n",
    "    func.plot_conf(conf, pred_labels, real_labels, graph, real_model=model_list, pred_model=model_list)\n",
    "    \n",
    "plt.tight_layout()"
   ]
  },
  {
   "cell_type": "code",
   "execution_count": 15,
   "metadata": {},
   "outputs": [
    {
     "name": "stdout",
     "output_type": "stream",
     "text": [
      "Found 11775 images belonging to 3 classes.\n",
      "\n",
      "It tooks 39 seconds\n",
      "\n",
      "columns are predictions, index are ground truth\n",
      "\n"
     ]
    },
    {
     "data": {
      "text/html": [
       "<div>\n",
       "<style scoped>\n",
       "    .dataframe tbody tr th:only-of-type {\n",
       "        vertical-align: middle;\n",
       "    }\n",
       "\n",
       "    .dataframe tbody tr th {\n",
       "        vertical-align: top;\n",
       "    }\n",
       "\n",
       "    .dataframe thead th {\n",
       "        text-align: right;\n",
       "    }\n",
       "</style>\n",
       "<table border=\"1\" class=\"dataframe\">\n",
       "  <thead>\n",
       "    <tr style=\"text-align: right;\">\n",
       "      <th></th>\n",
       "      <th>Canon Ixus70</th>\n",
       "      <th>Nikon D200</th>\n",
       "      <th>Olympus mju-1050SW</th>\n",
       "    </tr>\n",
       "  </thead>\n",
       "  <tbody>\n",
       "    <tr>\n",
       "      <th>Canon Ixus70</th>\n",
       "      <td>0</td>\n",
       "      <td>1402</td>\n",
       "      <td>1</td>\n",
       "    </tr>\n",
       "    <tr>\n",
       "      <th>Nikon D200</th>\n",
       "      <td>1</td>\n",
       "      <td>1932</td>\n",
       "      <td>5</td>\n",
       "    </tr>\n",
       "    <tr>\n",
       "      <th>Olympus mju-1050SW</th>\n",
       "      <td>0</td>\n",
       "      <td>3053</td>\n",
       "      <td>6</td>\n",
       "    </tr>\n",
       "  </tbody>\n",
       "</table>\n",
       "</div>"
      ],
      "text/plain": [
       "                    Canon Ixus70  Nikon D200  Olympus mju-1050SW\n",
       "Canon Ixus70                   0        1402                   1\n",
       "Nikon D200                     1        1932                   5\n",
       "Olympus mju-1050SW             0        3053                   6"
      ]
     },
     "metadata": {},
     "output_type": "display_data"
    },
    {
     "name": "stdout",
     "output_type": "stream",
     "text": [
      "The mean of the confidence is: \n",
      "\n"
     ]
    },
    {
     "data": {
      "text/html": [
       "<div>\n",
       "<style scoped>\n",
       "    .dataframe tbody tr th:only-of-type {\n",
       "        vertical-align: middle;\n",
       "    }\n",
       "\n",
       "    .dataframe tbody tr th {\n",
       "        vertical-align: top;\n",
       "    }\n",
       "\n",
       "    .dataframe thead th {\n",
       "        text-align: right;\n",
       "    }\n",
       "</style>\n",
       "<table border=\"1\" class=\"dataframe\">\n",
       "  <thead>\n",
       "    <tr style=\"text-align: right;\">\n",
       "      <th></th>\n",
       "      <th>Canon Ixus70</th>\n",
       "      <th>Nikon D200</th>\n",
       "      <th>Olympus mju-1050SW</th>\n",
       "    </tr>\n",
       "  </thead>\n",
       "  <tbody>\n",
       "    <tr>\n",
       "      <th>Canon Ixus70</th>\n",
       "      <td>0.000000</td>\n",
       "      <td>0.999205</td>\n",
       "      <td>0.570436</td>\n",
       "    </tr>\n",
       "    <tr>\n",
       "      <th>Nikon D200</th>\n",
       "      <td>0.501532</td>\n",
       "      <td>0.997942</td>\n",
       "      <td>0.601129</td>\n",
       "    </tr>\n",
       "    <tr>\n",
       "      <th>Olympus mju-1050SW</th>\n",
       "      <td>0.000000</td>\n",
       "      <td>0.998534</td>\n",
       "      <td>0.599154</td>\n",
       "    </tr>\n",
       "  </tbody>\n",
       "</table>\n",
       "</div>"
      ],
      "text/plain": [
       "                    Canon Ixus70  Nikon D200  Olympus mju-1050SW\n",
       "Canon Ixus70            0.000000    0.999205            0.570436\n",
       "Nikon D200              0.501532    0.997942            0.601129\n",
       "Olympus mju-1050SW      0.000000    0.998534            0.599154"
      ]
     },
     "metadata": {},
     "output_type": "display_data"
    },
    {
     "name": "stdout",
     "output_type": "stream",
     "text": [
      "The standard deviation of the confidence is: \n",
      "\n"
     ]
    },
    {
     "data": {
      "text/html": [
       "<div>\n",
       "<style scoped>\n",
       "    .dataframe tbody tr th:only-of-type {\n",
       "        vertical-align: middle;\n",
       "    }\n",
       "\n",
       "    .dataframe tbody tr th {\n",
       "        vertical-align: top;\n",
       "    }\n",
       "\n",
       "    .dataframe thead th {\n",
       "        text-align: right;\n",
       "    }\n",
       "</style>\n",
       "<table border=\"1\" class=\"dataframe\">\n",
       "  <thead>\n",
       "    <tr style=\"text-align: right;\">\n",
       "      <th></th>\n",
       "      <th>Canon Ixus70</th>\n",
       "      <th>Nikon D200</th>\n",
       "      <th>Olympus mju-1050SW</th>\n",
       "    </tr>\n",
       "  </thead>\n",
       "  <tbody>\n",
       "    <tr>\n",
       "      <th>Canon Ixus70</th>\n",
       "      <td>0.0</td>\n",
       "      <td>0.000142</td>\n",
       "      <td>0.000000</td>\n",
       "    </tr>\n",
       "    <tr>\n",
       "      <th>Nikon D200</th>\n",
       "      <td>0.0</td>\n",
       "      <td>0.000458</td>\n",
       "      <td>0.005055</td>\n",
       "    </tr>\n",
       "    <tr>\n",
       "      <th>Olympus mju-1050SW</th>\n",
       "      <td>0.0</td>\n",
       "      <td>0.000281</td>\n",
       "      <td>0.005516</td>\n",
       "    </tr>\n",
       "  </tbody>\n",
       "</table>\n",
       "</div>"
      ],
      "text/plain": [
       "                    Canon Ixus70  Nikon D200  Olympus mju-1050SW\n",
       "Canon Ixus70                 0.0    0.000142            0.000000\n",
       "Nikon D200                   0.0    0.000458            0.005055\n",
       "Olympus mju-1050SW           0.0    0.000281            0.005516"
      ]
     },
     "metadata": {},
     "output_type": "display_data"
    },
    {
     "data": {
      "image/png": "[encoded data removed]",
      "text/plain": [
       "<Figure size 720x360 with 1 Axes>"
      ]
     },
     "metadata": {
      "needs_background": "light"
     },
     "output_type": "display_data"
    },
    {
     "data": {
      "image/png": "[encoded data removed]",
      "text/plain": [
       "<Figure size 720x360 with 1 Axes>"
      ]
     },
     "metadata": {
      "needs_background": "light"
     },
     "output_type": "display_data"
    }
   ],
   "source": [
    "# Read the positive test samples.\n",
    "blur_generator = test_data_gen.flow_from_directory(\n",
    "                  directory = r\"./post/blur/\",\n",
    "                  target_size=(img_width, img_height), color_mode='grayscale', shuffle=True,\n",
    "                  batch_size=batch_size, class_mode=\"categorical\")\n",
    "\n",
    "# print('\\n# Evaluate on test data')\n",
    "# results = model.evaluate(blur_generator)\n",
    "\n",
    "hist, conf, pred_labels, real_labels = func.evaluate(model_list, blur_generator, model, index=model_list, columns=model_list, \n",
    "                                           title='Classifying Blurred Images', num_batch=100, tex=True)\n",
    "\n",
    "# df_mean, df_error = func.mean_error(conf, pred_labels, real_labels,\n",
    "#                                     real_model=model_list, pred_model=model_list)\n",
    "\n",
    "# fig, axes = plt.subplots(nrows=2, ncols=2, figsize=(20, 10))\n",
    "# df_mean.plot.bar(yerr=df_error, ax=axes[0,0], capsize=4)\n",
    "# graph = {0:axes[0,1], 1:axes[1,0], 2:axes[1, 1]}\n",
    "\n",
    "# func.plot_conf(conf, pred_labels, real_labels, graph, real_model=model_list, pred_model=model_list)\n",
    "# plt.tight_layout()\n",
    "\n",
    "tex = True\n",
    "df_mean, df_error = func.mean_error(conf, pred_labels, real_labels,\n",
    "                                    real_model=model_list, pred_model=model_list)\n",
    "if tex:\n",
    "    ax = df_mean.plot.bar(yerr=df_error, capsize=5, figsize=(10, 5))\n",
    "    for p in ax.patches:\n",
    "        ax.annotate(f\"{p.get_height():.2f}\", (p.get_x() * 1.008, p.get_height() * 1.008))\n",
    "    tikzplotlib.save(\"test_conf.tex\")    \n",
    "else:\n",
    "    fig, axes = plt.subplots(nrows=2, ncols=2, figsize=(20, 10))\n",
    "    ax = df_mean.plot.bar(yerr=df_error, ax=axes[0,0], capsize=4)\n",
    "    for p in ax.patches:\n",
    "        ax.annotate(f\"{p.get_height():.2f}\", (p.get_x() * 1.008, p.get_height() * 1.008))\n",
    "    graph = {0:axes[0,1], 1:axes[1,0], 2:axes[1, 1]}\n",
    "    func.plot_conf(conf, pred_labels, real_labels, graph, real_model=model_list, pred_model=model_list)\n",
    "    \n",
    "plt.tight_layout()"
   ]
  }
 ],
 "metadata": {
  "kernelspec": {
   "display_name": "Python 3",
   "language": "python",
   "name": "python3"
  },
  "language_info": {
   "codemirror_mode": {
    "name": "ipython",
    "version": 3
   },
   "file_extension": ".py",
   "mimetype": "text/x-python",
   "name": "python",
   "nbconvert_exporter": "python",
   "pygments_lexer": "ipython3",
   "version": "3.7.6"
  }
 },
 "nbformat": 4,
 "nbformat_minor": 4
}
