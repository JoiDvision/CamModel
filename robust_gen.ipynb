{
 "cells": [
  {
   "cell_type": "code",
   "execution_count": 1,
   "metadata": {},
   "outputs": [],
   "source": [
    "import os\n",
    "import re\n",
    "import fnmatch\n",
    "import pandas as pd\n",
    "import numpy as np\n",
    "import warnings\n",
    "import split_extract\n",
    "from multiprocessing import Pool\n",
    "from tqdm import tqdm\n",
    "from params import dresden_images_root, images_db_path, patch_span, \\\n",
    "        patch_num, robust_root, robust_db_path"
   ]
  },
  {
   "cell_type": "code",
   "execution_count": 2,
   "metadata": {},
   "outputs": [],
   "source": [
    "warnings.filterwarnings(\"ignore\")\n",
    "\n",
    "if not os.path.exists(robust_root):\n",
    "    os.makedirs(robust_root)"
   ]
  },
  {
   "cell_type": "code",
   "execution_count": 3,
   "metadata": {},
   "outputs": [],
   "source": [
    "images_db = np.load(images_db_path, allow_pickle=True).item()\n",
    "\n",
    "test_model_list = list(filter(lambda model: re.search(r'^((?!Canon).)*$', model), images_db['brand_model']))\n",
    "test_img_list = list(filter(lambda img: re.search(r'^((?!Canon).)*$', img), images_db['path']))\n",
    "\n",
    "# How many model in my dataset\n",
    "model_list = np.unique(test_model_list) "
   ]
  },
  {
   "cell_type": "code",
   "execution_count": 4,
   "metadata": {},
   "outputs": [
    {
     "name": "stdout",
     "output_type": "stream",
     "text": [
      "Nikon_CoolPixS710 in test set: 925.\n",
      "Nikon_D200 in test set: 752.\n",
      "Nikon_D70 in test set: 736.\n",
      "Nikon_D70s in test set: 367.\n",
      "Sony_DSC-H50 in test set: 541.\n",
      "Sony_DSC-T77 in test set: 725.\n",
      "Sony_DSC-W170 in test set: 405.\n"
     ]
    }
   ],
   "source": [
    "for model in model_list:\n",
    "    tmp_list = fnmatch.filter(test_model_list, model + '*')\n",
    "    print(\"{} in test set: {}.\".format(model, len(tmp_list)))"
   ]
  },
  {
   "cell_type": "code",
   "execution_count": 5,
   "metadata": {},
   "outputs": [
    {
     "name": "stderr",
     "output_type": "stream",
     "text": [
      "4084it [00:00, 1359810.87it/s]\n"
     ]
    }
   ],
   "source": [
    "test_list = []\n",
    "for img_brand_model, img_path in \\\n",
    "    tqdm(zip(test_model_list, test_img_list)):\n",
    "        test_list += [{'data_set':'test',\n",
    "                       'img_path':img_path,\n",
    "                       'img_brand_model':img_brand_model,\n",
    "                       'patch_span':patch_span,\n",
    "                       'patch_num':patch_num,\n",
    "                       'patch_root': robust_root,\n",
    "                       'img_root': dresden_images_root\n",
    "                       }]\n",
    "\n",
    "num_processes = 12\n",
    "# num_processes = 4\n",
    "pool = Pool(processes=num_processes)"
   ]
  },
  {
   "cell_type": "code",
   "execution_count": 6,
   "metadata": {},
   "outputs": [
    {
     "name": "stdout",
     "output_type": "stream",
     "text": [
      "Completed.\n"
     ]
    }
   ],
   "source": [
    "test_paths = pool.map(split_extract.extract, test_list)\n",
    "print('Completed.')"
   ]
  }
 ],
 "metadata": {
  "kernelspec": {
   "display_name": "Python 3",
   "language": "python",
   "name": "python3"
  },
  "language_info": {
   "codemirror_mode": {
    "name": "ipython",
    "version": 3
   },
   "file_extension": ".py",
   "mimetype": "text/x-python",
   "name": "python",
   "nbconvert_exporter": "python",
   "pygments_lexer": "ipython3",
   "version": "3.7.6"
  }
 },
 "nbformat": 4,
 "nbformat_minor": 4
}
