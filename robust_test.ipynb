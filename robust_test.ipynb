{
 "cells": [
  {
   "cell_type": "code",
   "execution_count": 1,
   "metadata": {},
   "outputs": [],
   "source": [
    "import os\n",
    "import re\n",
    "import fnmatch\n",
    "import pandas as pd\n",
    "import numpy as np\n",
    "import warnings\n",
    "import split_extract\n",
    "from multiprocessing import Pool\n",
    "from tqdm import tqdm\n",
    "from params import dresden_images_root, images_db_path, patch_span, \\\n",
    "        patch_num, robust_root, robust_db_path"
   ]
  },
  {
   "cell_type": "code",
   "execution_count": 3,
   "metadata": {},
   "outputs": [],
   "source": [
    "warnings.filterwarnings(\"ignore\")\n",
    "\n",
    "if not os.path.exists(robust_root):\n",
    "    os.makedirs(robust_root)"
   ]
  },
  {
   "cell_type": "code",
   "execution_count": 4,
   "metadata": {},
   "outputs": [],
   "source": [
    "images_db = np.load(images_db_path, allow_pickle=True).item()\n",
    "\n",
    "model_list = np.unique(images_db['brand_model'])\n",
    "test_model_list = list(filter(lambda model: re.search(r'^((?!Canon).)*$', model), model_list))\n",
    "img_list = images_db['path']\n",
    "test_img_list = list(filter(lambda img: re.search(r'^((?!Canon).)*$', img), img_list))"
   ]
  },
  {
   "cell_type": "code",
   "execution_count": 6,
   "metadata": {},
   "outputs": [
    {
     "name": "stdout",
     "output_type": "stream",
     "text": [
      "Agfa_DC-504 in test set: 169.\n",
      "Agfa_DC-733s in test set: 281.\n",
      "Agfa_DC-830i in test set: 363.\n",
      "Agfa_Sensor505-x in test set: 172.\n",
      "Agfa_Sensor530s in test set: 372.\n"
     ]
    }
   ],
   "source": [
    "for model in test_model_list:\n",
    "    test_list = fnmatch.filter(test_img_list, model + '*')\n",
    "    print(\"{} in test set: {}.\".format(model, len(test_list)))"
   ]
  },
  {
   "cell_type": "code",
   "execution_count": null,
   "metadata": {},
   "outputs": [],
   "source": [
    "# files_labels = dict(zip(images_db['path'], images_db['brand_model']))\n",
    "# test_labels = []\n",
    "\n",
    "# for path in test_img_list:\n",
    "#     test_labels += [files_labels[path]]"
   ]
  },
  {
   "cell_type": "code",
   "execution_count": null,
   "metadata": {},
   "outputs": [
    {
     "name": "stderr",
     "output_type": "stream",
     "text": [
      "2336it [00:00, 519121.23it/s]\n"
     ]
    }
   ],
   "source": [
    "for img_brand_model, img_path in \\\n",
    "    tqdm(zip(test_model_list, test_img_list)):\n",
    "        test_list += [{'data_set':'test',\n",
    "                       'img_path':img_path,\n",
    "                       'img_brand_model':img_brand_model,\n",
    "                       'patch_span':patch_span,\n",
    "                       'patch_num':patch_num,\n",
    "                       'patch_root': robust_root,\n",
    "                       'img_root': dresden_images_root\n",
    "                       }]\n",
    "\n",
    "# num_processes = 12\n",
    "num_processes = 4\n",
    "pool = Pool(processes=num_processes)\n",
    "\n",
    "test_paths = pool.map(split_extract.extract, test_list)\n",
    "print('Completed.')"
   ]
  }
 ],
 "metadata": {
  "kernelspec": {
   "display_name": "Python [conda env:cam] *",
   "language": "python",
   "name": "conda-env-cam-py"
  },
  "language_info": {
   "codemirror_mode": {
    "name": "ipython",
    "version": 3
   },
   "file_extension": ".py",
   "mimetype": "text/x-python",
   "name": "python",
   "nbconvert_exporter": "python",
   "pygments_lexer": "ipython3",
   "version": "3.7.6"
  }
 },
 "nbformat": 4,
 "nbformat_minor": 4
}
