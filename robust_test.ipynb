{
 "cells": [
  {
   "cell_type": "code",
   "execution_count": 1,
   "metadata": {},
   "outputs": [],
   "source": [
    "import tensorflow as tf"
   ]
  },
  {
   "cell_type": "code",
   "execution_count": 2,
   "metadata": {},
   "outputs": [],
   "source": [
    "gpus = tf.config.experimental.list_physical_devices('GPU')\n",
    "tf.config.experimental.set_memory_growth(gpus[0], True)"
   ]
  },
  {
   "cell_type": "code",
   "execution_count": 3,
   "metadata": {},
   "outputs": [],
   "source": [
    "import numpy as np\n",
    "import os\n",
    "import re\n",
    "import time\n",
    "import split_extract\n",
    "import pandas as pd\n",
    "from tensorflow.keras.preprocessing.image import ImageDataGenerator\n",
    "from params import dresden_images_root, images_db_path, patch_span, \\\n",
    "        patch_num, robust_root"
   ]
  },
  {
   "cell_type": "code",
   "execution_count": 4,
   "metadata": {},
   "outputs": [],
   "source": [
    "# Define image and batch size\n",
    "img_height = 256\n",
    "img_width = 256\n",
    "batch_size = 64\n",
    "\n",
    "# Load and Compile the model\n",
    "model = tf.keras.models.load_model('model.h5')"
   ]
  },
  {
   "cell_type": "code",
   "execution_count": 5,
   "metadata": {},
   "outputs": [
    {
     "name": "stdout",
     "output_type": "stream",
     "text": [
      "real models: Canon_Ixus55, Canon_Ixus70, Canon_PowerShotA640\n",
      "test models: Nikon_CoolPixS710, Nikon_D200, Nikon_D70, Nikon_D70s, Sony_DSC-H50, Sony_DSC-T77, Sony_DSC-W170\n"
     ]
    }
   ],
   "source": [
    "images_db = np.load(images_db_path, allow_pickle=True).item()\n",
    "# read all the trained model images and unseen model images\n",
    "real_model_list = list(filter(lambda model: re.search(r'Canon*', model), images_db['brand_model']))\n",
    "test_model_list = list(filter(lambda model: re.search(r'^((?!Canon).)*$', model), images_db['brand_model']))\n",
    "test_img_list = list(filter(lambda img: re.search(r'^((?!Canon).)*$', img), images_db['path']))\n",
    "\n",
    "# How many model in my dataset, real are trained models, test are unseen models\n",
    "real_model = np.unique(real_model_list) \n",
    "test_model = np.unique(test_model_list) \n",
    "print(\"real models: {}\".format(', '.join(real_model)))\n",
    "print(\"test models: {}\".format(', '.join(test_model)))\n",
    "\n",
    "# test_dir = [os.path.join(robust_root, 'test', model) for model in test_model]\n",
    "# size_test_data = [len(os.listdir(d)) for d in test_dir]"
   ]
  },
  {
   "cell_type": "code",
   "execution_count": 6,
   "metadata": {},
   "outputs": [
    {
     "name": "stdout",
     "output_type": "stream",
     "text": [
      "Found 102100 images belonging to 7 classes.\n"
     ]
    }
   ],
   "source": [
    "test_data_gen = ImageDataGenerator(preprocessing_function=None,\n",
    "    rescale=1./255)\n",
    "# Read the positive test samples.\n",
    "test_generator = test_data_gen.flow_from_directory(\n",
    "                  directory = r\"./robust/test/\",\n",
    "                  target_size=(img_width, img_height), color_mode='grayscale', shuffle=True,\n",
    "                  batch_size=batch_size, class_mode=\"categorical\")"
   ]
  },
  {
   "cell_type": "code",
   "execution_count": 7,
   "metadata": {},
   "outputs": [
    {
     "name": "stdout",
     "output_type": "stream",
     "text": [
      "It tooks 112 seconds\n"
     ]
    }
   ],
   "source": [
    "# generate a histogram, which for every unseen models, how many imgs are classified.\n",
    "t0 = time.time()\n",
    "hist = [[0, 0, 0] for i in range(len(test_model))]\n",
    "\n",
    "for i in range(200):\n",
    "    gen = next(test_generator)\n",
    "    pred = model.predict(gen[0])\n",
    "    pred_labels = np.argmax(pred, axis=1)\n",
    "    real_labels = np.argmax(gen[1], axis=1)\n",
    "    for j in range(len(pred_labels)):\n",
    "        hist[real_labels[j]][pred_labels[j]] += 1\n",
    "t1 = time.time()\n",
    "print('It tooks {:d} seconds'.format(int(t1-t0)))"
   ]
  },
  {
   "cell_type": "code",
   "execution_count": 8,
   "metadata": {},
   "outputs": [
    {
     "name": "stdout",
     "output_type": "stream",
     "text": [
      "                   Canon_Ixus55  Canon_Ixus70  Canon_PowerShotA640\n",
      "Nikon_CoolPixS710           108          1574                 1230\n",
      "Nikon_D200                   25          1059                 1244\n",
      "Nikon_D70                     0          1159                    0\n",
      "Nikon_D70s                    0          1152                    0\n",
      "Sony_DSC-H50                  0          1716                    3\n",
      "Sony_DSC-T77                  0          2218                    0\n",
      "Sony_DSC-W170                 0          1311                    1\n"
     ]
    },
    {
     "data": {
      "text/plain": [
       "<matplotlib.axes._subplots.AxesSubplot at 0x7f70bd5abf50>"
      ]
     },
     "execution_count": 8,
     "metadata": {},
     "output_type": "execute_result"
    },
    {
     "data": {
      "image/png": "[encoded data removed]",
      "text/plain": [
       "<Figure size 720x360 with 1 Axes>"
      ]
     },
     "metadata": {
      "needs_background": "light"
     },
     "output_type": "display_data"
    }
   ],
   "source": [
    "df = pd.DataFrame(hist, index=test_model, columns=real_model)\n",
    "print(df)\n",
    "\n",
    "df.plot.bar(stacked=True, figsize=(10, 5), title='Classify Nikon and Sony with trained Canon Model')"
   ]
  },
  {
   "cell_type": "code",
   "execution_count": 9,
   "metadata": {},
   "outputs": [],
   "source": [
    "# print(\"real models: {}\".format(', '.join(real_model)))\n",
    "\n",
    "\n",
    "# print(\"{}: {}\".format(', '.join(test_model)))\n",
    "\n",
    "# num_test_model = len(test_model)\n",
    "# num_real_model = len(real_model)\n",
    "# idx = np.arange(num_test_model)    # the x locations for the groups\n",
    "# width = 0.35       # the width of the bars: can also be len(x) sequence\n",
    "# plt.figure(figsize=(10,5))\n",
    "\n",
    "# for n in range(num_real_model):\n",
    "#     if n == 0:\n",
    "#         plt.bar(idx, [h[n] for h in hist], width)\n",
    "#     else:\n",
    "#         plt.bar(idx, [h[n] for h in hist], width, bottom=[h[n-1] for h in hist])\n",
    "\n",
    "# plt.title('Classify Nikon and Sony with trained Canon Model')\n",
    "# plt.ylabel('Number')\n",
    "# plt.xticks(idx, test_model)\n",
    "# plt.legend(real_model)\n",
    "# plt.tight_layout()\n",
    "# plt.show()"
   ]
  }
 ],
 "metadata": {
  "kernelspec": {
   "display_name": "Python 3",
   "language": "python",
   "name": "python3"
  },
  "language_info": {
   "codemirror_mode": {
    "name": "ipython",
    "version": 3
   },
   "file_extension": ".py",
   "mimetype": "text/x-python",
   "name": "python",
   "nbconvert_exporter": "python",
   "pygments_lexer": "ipython3",
   "version": "3.7.6"
  }
 },
 "nbformat": 4,
 "nbformat_minor": 4
}
