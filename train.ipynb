{
 "cells": [
  {
   "cell_type": "code",
   "execution_count": 2,
   "metadata": {},
   "outputs": [],
   "source": [
    "import tensorflow as tf\n",
    "import os\n",
    "import matplotlib.pyplot as plt\n",
    "import numpy as np\n",
    "import network\n",
    "from data_pipeline import set_up_data_pipeline, decode, augment\n",
    "from params import patches_root, train_db_path, test_db_path\n",
    "from tensorflow.keras.preprocessing.image import ImageDataGenerator\n",
    "from tensorflow.keras.callbacks import ModelCheckpoint, EarlyStopping, Callback"
   ]
  },
  {
   "cell_type": "code",
   "execution_count": null,
   "metadata": {},
   "outputs": [],
   "source": [
    "img_height = 256\n",
    "img_width = 256\n",
    "batch_size = 64"
   ]
  },
  {
   "cell_type": "code",
   "execution_count": null,
   "metadata": {},
   "outputs": [],
   "source": [
    "# Load the training and validation datasets\n",
    "\n",
    "train_generator = ImageDataGenerator(preprocessing_function=None,\n",
    "    rescale=1./255, horizontal_flip=True, vertical_flip=True)\n",
    "\n",
    "validation_generator = ImageDataGenerator(preprocessing_function=None,\n",
    "    rescale=1./255)\n",
    "\n",
    "train_data_gen  = train_generator.flow_from_directory(\n",
    "    directory=r\"./patches/train/\",\n",
    "    target_size=(img_width, img_height), color_mode='grayscale',\n",
    "    batch_size=batch_size, class_mode=\"categorical\", shuffle=True)\n",
    "\n",
    "validation_data_gen = validation_generator.flow_from_directory(\n",
    "    directory=r\"./patches/test/\",\n",
    "    target_size=(img_width, img_height), color_mode='grayscale',\n",
    "    batch_size=batch_size, class_mode=\"categorical\", shuffle=True)"
   ]
  },
  {
   "cell_type": "code",
   "execution_count": null,
   "metadata": {},
   "outputs": [],
   "source": [
    "sample_training_images, _ = next(train_data_gen)"
   ]
  },
  {
   "cell_type": "code",
   "execution_count": null,
   "metadata": {},
   "outputs": [],
   "source": [
    "# This function will plot images in the form of a grid with 1 row and 5 columns where images are placed in each column.\n",
    "def plotImages(images_arr):\n",
    "    fig, axes = plt.subplots(1, 5, figsize=(20,20))\n",
    "    axes = axes.flatten()\n",
    "    for img, ax in zip(images_arr, axes):\n",
    "        ax.imshow(img[:,:,0], cmap='gray')\n",
    "        ax.axis('off')\n",
    "    plt.tight_layout()\n",
    "    plt.show()"
   ]
  },
  {
   "cell_type": "code",
   "execution_count": null,
   "metadata": {},
   "outputs": [],
   "source": [
    "plotImages(sample_training_images[:5])"
   ]
  },
  {
   "cell_type": "code",
   "execution_count": null,
   "metadata": {},
   "outputs": [],
   "source": [
    "print(\"[*] Define model\")\n",
    "model = network.build()"
   ]
  },
  {
   "cell_type": "code",
   "execution_count": null,
   "metadata": {},
   "outputs": [],
   "source": [
    "sgd = tf.optimizers.SGD(lr=0.001, momentum=0.9, decay=0.0005)\n",
    "model.compile(\n",
    "    optimizer=sgd, \n",
    "    loss='categorical_crossentropy', \n",
    "    metrics=['accuracy'])"
   ]
  },
  {
   "cell_type": "code",
   "execution_count": null,
   "metadata": {},
   "outputs": [],
   "source": [
    "#           ------------ Train the Model ------------\n",
    "ConstrainLayer = network.ConstrainLayer(model)\n",
    "callbacks = [ModelCheckpoint('./saved_model/weights.{epoch:02d}.h5',\n",
    "    monitor='acc',verbose=1, save_best_only=False,\n",
    "    save_freq=1), ConstrainLayer]\n",
    "\n",
    "history = model.fit_generator(generator=train_data_gen, epochs=45, \n",
    "     callbacks=callbacks)  #removed validation data"
   ]
  },
  {
   "cell_type": "code",
   "execution_count": null,
   "metadata": {},
   "outputs": [],
   "source": [
    "#           ------------------------------------------\n",
    "\n",
    "# Next thing that could be implemented is the 'Extremely Randomized \n",
    "# Trees Classifier\" used to extract the 1x200 vector which contains\n",
    "# the Deep Convolutional Features. It is reported that this provides\n",
    "# a small improvement in the model's accuracy.\n",
    "\n",
    "# The following line makes sure that the program exits successfully every \n",
    "# time. It deals with the \"Exception ignored in BaseSession\" bug. Not of \n",
    "# importance anyway.\n",
    "import gc; gc.collect()"
   ]
  }
 ],
 "metadata": {
  "kernelspec": {
   "display_name": "Python 3",
   "language": "python",
   "name": "python3"
  },
  "language_info": {
   "codemirror_mode": {
    "name": "ipython",
    "version": 3
   },
   "file_extension": ".py",
   "mimetype": "text/x-python",
   "name": "python",
   "nbconvert_exporter": "python",
   "pygments_lexer": "ipython3",
   "version": "3.7.5"
  }
 },
 "nbformat": 4,
 "nbformat_minor": 4
}
