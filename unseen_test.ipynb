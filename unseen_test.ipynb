{
 "cells": [
  {
   "cell_type": "code",
   "execution_count": 1,
   "metadata": {},
   "outputs": [],
   "source": [
    "import tensorflow as tf"
   ]
  },
  {
   "cell_type": "code",
   "execution_count": 2,
   "metadata": {},
   "outputs": [],
   "source": [
    "gpus = tf.config.experimental.list_physical_devices('GPU')\n",
    "tf.config.experimental.set_memory_growth(gpus[0], True)"
   ]
  },
  {
   "cell_type": "code",
   "execution_count": 3,
   "metadata": {},
   "outputs": [],
   "source": [
    "import numpy as np\n",
    "import os\n",
    "import fnmatch\n",
    "import time\n",
    "import func\n",
    "import warnings\n",
    "import pandas as pd\n",
    "import tikzplotlib\n",
    "import matplotlib.pyplot as plt\n",
    "from tensorflow.keras.preprocessing.image import ImageDataGenerator\n",
    "from params import dresden_images_root, train_csv_path, unseen_csv_path, unseen_root"
   ]
  },
  {
   "cell_type": "code",
   "execution_count": 4,
   "metadata": {},
   "outputs": [
    {
     "name": "stdout",
     "output_type": "stream",
     "text": [
      "real models: Canon_Ixus70, Nikon_D200, Olympus_mju-1050SW\n",
      "test models: Agfa_DC-830i, Canon_Ixus55, Canon_PowerShotA640, Nikon_D70, Sony_DSC-W170\n",
      "\n",
      "Agfa_DC-830i in test set: 363.\n",
      "Canon_Ixus55 in test set: 224.\n",
      "Canon_PowerShotA640 in test set: 188.\n",
      "Nikon_D70 in test set: 369.\n",
      "Sony_DSC-W170 in test set: 405.\n",
      "\n",
      "Data is ready!\n"
     ]
    }
   ],
   "source": [
    "train_db = pd.read_csv(train_csv_path)\n",
    "unseen_db = pd.read_csv(unseen_csv_path)\n",
    "real_model_list = train_db['brand_model']\n",
    "unseen_model_list = unseen_db['brand_model']\n",
    "\n",
    "# How many model in my dataset, real are trained models, test are unseen models\n",
    "real_model = np.unique(real_model_list) \n",
    "unseen_model = np.unique(unseen_model_list)\n",
    "print(\"real models: {}\".format(', '.join(real_model)))\n",
    "print(\"test models: {}\\n\".format(', '.join(unseen_model)))\n",
    "\n",
    "# get information about the test set of unseen experiment\n",
    "if not os.path.exists(unseen_root):\n",
    "    os.makedirs(unseen_root)\n",
    "    time.sleep(0.3)\n",
    "    for model in unseen_model:\n",
    "        tmp_list = fnmatch.filter(unseen_db['path'], model + '*')\n",
    "        print(\"{} in test set: {}.\".format(model, len(tmp_list)))\n",
    "        time.sleep(0.1)\n",
    "        func.patch(model, tmp_list, '.', patches_root=unseen_root)\n",
    "else:\n",
    "    for model in unseen_model:\n",
    "        tmp_list = fnmatch.filter(unseen_db['path'], model + '*')\n",
    "        print(\"{} in test set: {}.\".format(model, len(tmp_list)))\n",
    "    print('\\nData is ready!')\n",
    "    \n",
    "real_model = [m.replace(\"_\", \" \") for m in real_model]\n",
    "unseen_model = [m.replace(\"_\", \" \") for m in unseen_model]"
   ]
  },
  {
   "cell_type": "markdown",
   "metadata": {},
   "source": [
    "Test models on these 5 cameras:\n",
    "- **Agfa_DC-830i** (different brand, same content)\n",
    "- **Canon_Ixus55** (same brand, same content)\n",
    "- **Canon_Powershot64** (same brand, different content)\n",
    "- **Nikon_D70** (same brand, same content)\n",
    "- **Sony_W170** (different brand, different content)"
   ]
  },
  {
   "cell_type": "code",
   "execution_count": 5,
   "metadata": {},
   "outputs": [],
   "source": [
    "# Define image and batch size\n",
    "img_height = 256\n",
    "img_width = 256\n",
    "batch_size = 64\n",
    "\n",
    "# Load and Compile the model\n",
    "model = tf.keras.models.load_model('./model.h5')\n",
    "test_data_gen = ImageDataGenerator(preprocessing_function=None,\n",
    "    rescale=1./255)\n",
    "# Read the positive test samples.\n",
    "test_generator = test_data_gen.flow_from_directory(\n",
    "                  directory = r\"./unseen/\",\n",
    "                  target_size=(img_width, img_height), color_mode='grayscale', shuffle=True,\n",
    "                  batch_size=batch_size, class_mode=\"categorical\")\n",
    "\n",
    "# generate a histogram, which for every unseen models, how many imgs are classified.\n",
    "hist, conf, pred_labels, real_labels = func.evaluate(unseen_model, test_generator, model, index=unseen_model, columns=real_model, title=None, num_batch=100, tex=True)\n",
    "\n",
    "tex = True\n",
    "df_mean, df_error = func.mean_error(conf, pred_labels, real_labels,\n",
    "                                real_model=unseen_model, pred_model=real_model)\n",
    "if tex:\n",
    "    ax = df_mean.plot.bar(yerr=df_error, capsize=5, figsize=(10, 5))\n",
    "    for p in ax.patches:\n",
    "        ax.annotate(f\"{p.get_height():.2f}\", (p.get_x() * 1.008, p.get_height() * 1.008))\n",
    "    tikzplotlib.save(\"test_conf.tex\")\n",
    "    plt.tight_layout()  \n",
    "else:\n",
    "    fig, axes = plt.subplots(nrows=3, ncols=2, figsize=(20, 20))\n",
    "    ax = df_mean.plot.bar(yerr=df_error, ax=axes[0,0], capsize=4)\n",
    "    for p in ax.patches:\n",
    "        ax.annotate(f\"{p.get_height():.2f}\", (p.get_x() * 1.008, p.get_height() * 1.008))\n",
    "    graph = {0:axes[0,1], 1:axes[1,0], 2:axes[1, 1], 3:axes[2, 0], 4:axes[2, 1]}\n",
    "    func.plot_conf(conf, pred_labels, real_labels, graph, real_model=unseen_model, pred_model=real_model)\n",
    "plt.tight_layout()"
   ]
  }
 ],
 "metadata": {
  "kernelspec": {
   "display_name": "Python 3",
   "language": "python",
   "name": "python3"
  },
  "language_info": {
   "codemirror_mode": {
    "name": "ipython",
    "version": 3
   },
   "file_extension": ".py",
   "mimetype": "text/x-python",
   "name": "python",
   "nbconvert_exporter": "python",
   "pygments_lexer": "ipython3",
   "version": "3.7.6"
  }
 },
 "nbformat": 4,
 "nbformat_minor": 4
}
