{
 "cells": [
  {
   "cell_type": "code",
   "execution_count": 1,
   "metadata": {},
   "outputs": [],
   "source": [
    "import os\n",
    "import numpy as np\n",
    "import pandas as pd\n",
    "import warnings\n",
    "import func\n",
    "import fnmatch\n",
    "from params import dresden_images_root, train_csv_path, patches_root, \\\n",
    "    patches_db_path, weights_path, ins_patches_db, ins_weights, \\\n",
    "    ins_train_csv, ins_test_csv, ins_train_path, ins_test_path"
   ]
  },
  {
   "cell_type": "code",
   "execution_count": 2,
   "metadata": {},
   "outputs": [],
   "source": [
    "warnings.filterwarnings(\"ignore\")\n",
    "\n",
    "if not os.path.exists(patches_root):\n",
    "    os.makedirs(patches_root)"
   ]
  },
  {
   "cell_type": "code",
   "execution_count": 3,
   "metadata": {},
   "outputs": [
    {
     "name": "stdout",
     "output_type": "stream",
     "text": [
      "Canon_Ixus70 in training set: 373.\n",
      "Canon_Ixus70 in validation set: 90.\n",
      "Canon_Ixus70 in test set: 104.\n",
      "\n",
      "Nikon_D200 in training set: 483.\n",
      "Nikon_D200 in validation set: 127.\n",
      "Nikon_D200 in test set: 142.\n",
      "\n",
      "Olympus_mju-1050SW in training set: 655.\n",
      "Olympus_mju-1050SW in validation set: 160.\n",
      "Olympus_mju-1050SW in test set: 225.\n",
      "\n"
     ]
    }
   ],
   "source": [
    "# split images dataset for training\n",
    "images_db = pd.read_csv(train_csv_path)\n",
    "\n",
    "model_list = np.unique(images_db['brand_model'])\n",
    "img_list = images_db['path']\n",
    "\n",
    "if not os.path.exists(patches_db_path):\n",
    "    train_list, val_list, test_list, info, weights = func.split(img_list, model_list, patches_db_path)\n",
    "else:\n",
    "    patches_db = np.load(patches_db_path, allow_pickle=True).item()\n",
    "    train_list = patches_db['train']\n",
    "    val_list = patches_db['val']\n",
    "    test_list = patches_db['test']\n",
    "    info, weights = func.split_info(train_list, val_list, test_list, \n",
    "                                       model_list, total=len(img_list))\n",
    "\n",
    "# store class weight to csv\n",
    "df = pd.DataFrame([weights], columns=range(len(model_list)))\n",
    "df.to_csv(weights_path, index=False)"
   ]
  },
  {
   "cell_type": "code",
   "execution_count": 5,
   "metadata": {},
   "outputs": [
    {
     "name": "stderr",
     "output_type": "stream",
     "text": [
      "100%|██████████| 373/373 [00:00<00:00, 524639.64it/s]\n",
      "100%|██████████| 90/90 [00:00<00:00, 373011.23it/s]\n",
      "100%|██████████| 104/104 [00:00<00:00, 229341.54it/s]\n",
      "100%|██████████| 483/483 [00:00<00:00, 1103403.50it/s]\n",
      "100%|██████████| 127/127 [00:00<00:00, 259462.55it/s]\n",
      "100%|██████████| 142/142 [00:00<00:00, 382524.83it/s]\n",
      "100%|██████████| 655/655 [00:00<00:00, 1017884.08it/s]\n",
      "100%|██████████| 160/160 [00:00<00:00, 360026.09it/s]\n",
      "100%|██████████| 225/225 [00:00<00:00, 486954.80it/s]\n"
     ]
    }
   ],
   "source": [
    "# split images into patches\n",
    "for i in range(len(model_list)):\n",
    "    func.patch(model_list[i], info[i][0], 'train')\n",
    "    func.patch(model_list[i], info[i][1], 'val')\n",
    "    func.patch(model_list[i], info[i][2], 'test')"
   ]
  },
  {
   "cell_type": "code",
   "execution_count": 6,
   "metadata": {},
   "outputs": [
    {
     "name": "stdout",
     "output_type": "stream",
     "text": [
      "Canon_Ixus70 in training set: 114.\n",
      "Canon_Ixus70 in validation set: 35.\n",
      "Canon_Ixus70 in test set: 38.\n",
      "\n",
      "Nikon_D200 in training set: 255.\n",
      "Nikon_D200 in validation set: 50.\n",
      "Nikon_D200 in test set: 67.\n",
      "\n",
      "Olympus_mju-1050SW in training set: 120.\n",
      "Olympus_mju-1050SW in validation set: 37.\n",
      "Olympus_mju-1050SW in test set: 47.\n",
      "\n",
      "Instance experiment for camera Canon_Ixus70 has 380 images.\n",
      "Instance experiment for camera Nikon_D200 has 380 images.\n",
      "Instance experiment for camera Olympus_mju-1050SW has 836 images.\n"
     ]
    }
   ],
   "source": [
    "# split dataset for instance experiment\n",
    "ins_db = pd.read_csv(ins_train_csv)\n",
    "img_list = ins_db['path']\n",
    "\n",
    "if not os.path.exists(ins_patches_db):\n",
    "    train_list, val_list, test_list, info, weights = func.split(img_list, model_list, ins_patches_db)\n",
    "else:\n",
    "    patches_db = np.load(ins_patches_db, allow_pickle=True).item()\n",
    "    train_list = patches_db['train']\n",
    "    val_list = patches_db['val']\n",
    "    test_list = patches_db['test']\n",
    "    info, weights = func.split_info(train_list, val_list, test_list, \n",
    "                                       model_list, total=len(img_list))\n",
    "    \n",
    "# get information about the instance test dataset\n",
    "test_db = pd.read_csv(ins_test_csv)\n",
    "test_info = []\n",
    "for m in model_list:\n",
    "    tmp = fnmatch.filter(test_db['path'].values, m + '*')\n",
    "    test_info.append(tmp)\n",
    "    print('Instance experiment for camera {} has {} images.'.format(m, len(tmp)))\n",
    "\n",
    "# store class weight to csv\n",
    "df = pd.DataFrame([weights], columns=range(len(model_list)))\n",
    "df.to_csv(ins_weights, index=False)"
   ]
  },
  {
   "cell_type": "code",
   "execution_count": 7,
   "metadata": {},
   "outputs": [
    {
     "name": "stderr",
     "output_type": "stream",
     "text": [
      "100%|██████████| 114/114 [00:00<00:00, 159970.11it/s]\n",
      "100%|██████████| 35/35 [00:00<00:00, 98128.77it/s]\n",
      "100%|██████████| 38/38 [00:00<00:00, 156105.34it/s]\n",
      "100%|██████████| 380/380 [00:00<00:00, 685815.63it/s]\n",
      "100%|██████████| 255/255 [00:00<00:00, 626198.78it/s]\n",
      "100%|██████████| 50/50 [00:00<00:00, 233535.86it/s]\n",
      "100%|██████████| 67/67 [00:00<00:00, 255471.24it/s]\n",
      "100%|██████████| 380/380 [00:00<00:00, 374051.99it/s]\n",
      "100%|██████████| 120/120 [00:00<00:00, 366048.35it/s]\n",
      "100%|██████████| 37/37 [00:00<00:00, 125253.63it/s]\n",
      "100%|██████████| 47/47 [00:00<00:00, 282424.48it/s]\n",
      "100%|██████████| 836/836 [00:00<00:00, 1222181.30it/s]\n"
     ]
    }
   ],
   "source": [
    "for i in range(len(model_list)):\n",
    "    func.patch(model_list[i], info[i][0], 'train', patches_root=ins_train_path)\n",
    "    func.patch(model_list[i], info[i][1], 'val' , patches_root=ins_train_path)\n",
    "    func.patch(model_list[i], info[i][2], 'test', patches_root=ins_train_path)\n",
    "    func.patch(model_list[i], test_info[i], '.', patches_root=ins_test_path)"
   ]
  }
 ],
 "metadata": {
  "kernelspec": {
   "display_name": "Python 3",
   "language": "python",
   "name": "python3"
  },
  "language_info": {
   "codemirror_mode": {
    "name": "ipython",
    "version": 3
   },
   "file_extension": ".py",
   "mimetype": "text/x-python",
   "name": "python",
   "nbconvert_exporter": "python",
   "pygments_lexer": "ipython3",
   "version": "3.7.6"
  }
 },
 "nbformat": 4,
 "nbformat_minor": 4
}
